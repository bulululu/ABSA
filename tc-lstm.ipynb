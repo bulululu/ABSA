{
 "cells": [
  {
   "cell_type": "code",
   "execution_count": 1,
   "id": "brilliant-language",
   "metadata": {
    "execution": {
     "iopub.execute_input": "2021-07-05T14:34:59.700407Z",
     "iopub.status.busy": "2021-07-05T14:34:59.698883Z",
     "iopub.status.idle": "2021-07-05T14:35:01.678835Z",
     "shell.execute_reply": "2021-07-05T14:35:01.678270Z",
     "shell.execute_reply.started": "2021-07-04T16:29:51.914817Z"
    },
    "papermill": {
     "duration": 1.993629,
     "end_time": "2021-07-05T14:35:01.679020",
     "exception": false,
     "start_time": "2021-07-05T14:34:59.685391",
     "status": "completed"
    },
    "tags": []
   },
   "outputs": [],
   "source": [
    "import torch\n",
    "import torch.nn as nn\n",
    "import torch.optim as optim\n",
    "import torch.nn.functional as F\n",
    "import torch.utils.data as Data\n",
    "\n",
    "from torchtext import data\n",
    "from torchtext.vocab import Vectors\n",
    "from torchtext.data import Iterator, BucketIterator\n",
    "\n",
    "import pandas as pd\n",
    "import numpy as np\n",
    "\n",
    "import re\n",
    "from tqdm import tqdm\n",
    "import matplotlib.pyplot as plt\n",
    "from sklearn.metrics import accuracy_score\n",
    "\n",
    "import warnings\n",
    "warnings.filterwarnings(\"ignore\")"
   ]
  },
  {
   "cell_type": "code",
   "execution_count": 2,
   "id": "distinct-enhancement",
   "metadata": {
    "execution": {
     "iopub.execute_input": "2021-07-05T14:35:01.744121Z",
     "iopub.status.busy": "2021-07-05T14:35:01.743488Z",
     "iopub.status.idle": "2021-07-05T14:35:01.747237Z",
     "shell.execute_reply": "2021-07-05T14:35:01.746808Z",
     "shell.execute_reply.started": "2021-07-04T16:29:51.925334Z"
    },
    "papermill": {
     "duration": 0.059465,
     "end_time": "2021-07-05T14:35:01.747372",
     "exception": false,
     "start_time": "2021-07-05T14:35:01.687907",
     "status": "completed"
    },
    "tags": []
   },
   "outputs": [],
   "source": [
    "# 定义超参数\n",
    "LR = 0.001\n",
    "EPOCHS = 128\n",
    "OUT_NUM = 4\n",
    "BATCH_SIZE = 1\n",
    "HIDDEN_NUM = 256\n",
    "\n",
    "DEVICE = torch.device(\"cuda\" if torch.cuda.is_available() else \"cpu\")\n",
    "polarity2num = {'positive':0, 'negative':1, 'neutral':2, 'conflict':3}"
   ]
  },
  {
   "cell_type": "code",
   "execution_count": 3,
   "id": "considered-oregon",
   "metadata": {
    "execution": {
     "iopub.execute_input": "2021-07-05T14:35:01.870515Z",
     "iopub.status.busy": "2021-07-05T14:35:01.868718Z",
     "iopub.status.idle": "2021-07-05T14:35:01.871106Z",
     "shell.execute_reply": "2021-07-05T14:35:01.871518Z",
     "shell.execute_reply.started": "2021-07-04T16:29:51.945856Z"
    },
    "papermill": {
     "duration": 0.115662,
     "end_time": "2021-07-05T14:35:01.871662",
     "exception": false,
     "start_time": "2021-07-05T14:35:01.756000",
     "status": "completed"
    },
    "tags": []
   },
   "outputs": [],
   "source": [
    "# 按照paper预处理数据，构建dataset\n",
    "def data_process(df, text_field, label_field):\n",
    "    texts = df.text.apply(lambda x: re.findall(r'\\b\\w+\\b',x)).values.tolist()\n",
    "    terms = df.term.apply(lambda x: re.findall(r'\\b\\w+\\b',x)).values.tolist()\n",
    "    idxs_l = [texts[i].index(terms[i][0]) for i in range(len(texts))]\n",
    "    idxs_r = [texts[i].index(terms[i][-1]) for i in range(len(texts))]\n",
    "    \n",
    "    inputs_l = [' '.join(texts[i][:idxs_r[i]+1]) for i in range(len(texts))]\n",
    "    inputs_r = [' '.join(texts[i][idxs_l[i]:][::-1]) for i in range(len(texts))]\n",
    "    inputs_t = [' '.join(terms[i]) for i in range(len(texts))]\n",
    "    \n",
    "    for pol in polarity2num:\n",
    "        df.polarity = df.polarity.replace(pol, polarity2num[pol])\n",
    "    labels = df.polarity\n",
    "    \n",
    "    fields = [(\"input_l\", text_field), (\"input_r\", text_field), (\"input_t\", text_field), (\"label\", label_field)]       \n",
    "    examples = []\n",
    "    for input_l, input_r, input_t, label in tqdm(zip(inputs_l, inputs_r, inputs_t, labels)):\n",
    "        examples.append(data.Example.fromlist([input_l, input_r, input_t, label], fields))\n",
    "    \n",
    "    dataset = data.Dataset(examples, fields)\n",
    "    return dataset"
   ]
  },
  {
   "cell_type": "code",
   "execution_count": 4,
   "id": "august-montreal",
   "metadata": {
    "execution": {
     "iopub.execute_input": "2021-07-05T14:35:01.899886Z",
     "iopub.status.busy": "2021-07-05T14:35:01.899329Z",
     "iopub.status.idle": "2021-07-05T14:35:01.902369Z",
     "shell.execute_reply": "2021-07-05T14:35:01.901966Z",
     "shell.execute_reply.started": "2021-07-04T16:29:51.963471Z"
    },
    "papermill": {
     "duration": 0.022177,
     "end_time": "2021-07-05T14:35:01.902477",
     "exception": false,
     "start_time": "2021-07-05T14:35:01.880300",
     "status": "completed"
    },
    "tags": []
   },
   "outputs": [],
   "source": [
    "# 定义TC_LSTM模型\n",
    "class TC_LSTM(nn.Module):\n",
    "    def __init__(self, weight_matrix):\n",
    "        super(TC_LSTM, self).__init__()\n",
    "        self.embedding = nn.Embedding(weight_matrix.shape[0], weight_matrix.shape[1])     \n",
    "        self.embedding.weight.data.copy_(weight_matrix)\n",
    "        self.lstm_l = nn.LSTM(input_size=weight_matrix.shape[1]*2, hidden_size=HIDDEN_NUM)\n",
    "        self.lstm_r = nn.LSTM(input_size=weight_matrix.shape[1]*2, hidden_size=HIDDEN_NUM)\n",
    "        self.out = nn.Linear(HIDDEN_NUM*2, OUT_NUM)\n",
    "\n",
    "    def forward(self, X):\n",
    "        embed_l = self.embedding(X[0])\n",
    "        embed_r = self.embedding(X[1])\n",
    "        embed_term = torch.mean(self.embedding(X[2]), dim=0, keepdim=True)\n",
    "        \n",
    "        embed_l = torch.cat((embed_l ,torch.cat(([embed_term] * embed_l.shape[0]))), dim=2)\n",
    "        embed_r = torch.cat((embed_r ,torch.cat(([embed_term] * embed_r.shape[0]))), dim=2)\n",
    "        \n",
    "        batch_size = embed_l.shape[1]\n",
    "        \n",
    "        hidden_state_l = torch.randn(1, batch_size, HIDDEN_NUM).to(DEVICE)\n",
    "        cell_state_l = torch.randn(1, batch_size, HIDDEN_NUM).to(DEVICE)  \n",
    "        hidden_state_r = torch.randn(1, batch_size, HIDDEN_NUM).to(DEVICE)\n",
    "        cell_state_r = torch.randn(1, batch_size, HIDDEN_NUM).to(DEVICE)\n",
    "        \n",
    "        _, (hidden_l, _) = self.lstm_l(embed_l, (hidden_state_l, cell_state_l))\n",
    "        _, (hidden_r, _) = self.lstm_r(embed_r, (hidden_state_r, cell_state_r))\n",
    "        \n",
    "        hidden = torch.cat((hidden_l[-1], hidden_r[-1]), dim=1)\n",
    "        out = self.out(hidden)\n",
    "        return out"
   ]
  },
  {
   "cell_type": "code",
   "execution_count": 5,
   "id": "vocational-outreach",
   "metadata": {
    "execution": {
     "iopub.execute_input": "2021-07-05T14:35:01.925398Z",
     "iopub.status.busy": "2021-07-05T14:35:01.924211Z",
     "iopub.status.idle": "2021-07-05T14:35:01.926904Z",
     "shell.execute_reply": "2021-07-05T14:35:01.926492Z",
     "shell.execute_reply.started": "2021-07-04T16:29:51.982164Z"
    },
    "papermill": {
     "duration": 0.015842,
     "end_time": "2021-07-05T14:35:01.927030",
     "exception": false,
     "start_time": "2021-07-05T14:35:01.911188",
     "status": "completed"
    },
    "tags": []
   },
   "outputs": [],
   "source": [
    "# 计算正确率\n",
    "def get_acc(model, trial_iter):\n",
    "    pred, real = [], []\n",
    "    for batch in trial_iter:\n",
    "        pred.extend(model([batch.input_l.to(DEVICE), batch.input_r.to(DEVICE), batch.input_t.to(DEVICE)]).data.max(1, keepdim=True)[1].tolist())\n",
    "        real.extend(batch.label.data.tolist())\n",
    "    accuracy = accuracy_score(pred, real)  \n",
    "    return accuracy"
   ]
  },
  {
   "cell_type": "code",
   "execution_count": 6,
   "id": "grave-wrapping",
   "metadata": {
    "execution": {
     "iopub.execute_input": "2021-07-05T14:35:01.959738Z",
     "iopub.status.busy": "2021-07-05T14:35:01.959220Z",
     "iopub.status.idle": "2021-07-05T14:35:02.301121Z",
     "shell.execute_reply": "2021-07-05T14:35:02.300638Z",
     "shell.execute_reply.started": "2021-07-04T16:29:51.998369Z"
    },
    "papermill": {
     "duration": 0.365914,
     "end_time": "2021-07-05T14:35:02.301237",
     "exception": false,
     "start_time": "2021-07-05T14:35:01.935323",
     "status": "completed"
    },
    "tags": []
   },
   "outputs": [
    {
     "name": "stderr",
     "output_type": "stream",
     "text": [
      "3324it [00:00, 41258.01it/s]\n",
      "369it [00:00, 37727.57it/s]\n",
      "3693it [00:00, 41951.33it/s]\n"
     ]
    }
   ],
   "source": [
    "# 构造数据\n",
    "df_train = pd.read_csv('../input/semeval-14-restaurant-review/restaurant_train_term.csv')\n",
    "df_trial = pd.read_csv('../input/semeval-14-restaurant-review/restaurant_trial_term.csv')\n",
    "\n",
    "tokenize = lambda x: x.split()\n",
    "TEXT = data.Field(sequential=True, lower=True, tokenize=tokenize)\n",
    "LABEL = data.Field(sequential=False, use_vocab=False)\n",
    "    \n",
    "dataset_train = data_process(df_train, TEXT, LABEL)\n",
    "dataset_trial = data_process(df_trial, TEXT, LABEL)\n",
    "dataset = data_process(pd.concat([df_trial, df_train], axis=0, ignore_index=True), TEXT, LABEL)\n",
    "\n",
    "train_iter, trial_iter = BucketIterator.splits(\n",
    "        (dataset_train, dataset_trial),\n",
    "        batch_sizes=(BATCH_SIZE, BATCH_SIZE),\n",
    "        device = DEVICE, \n",
    "        sort_key=lambda x: len(x.input_l),\n",
    "        sort_within_batch=False,\n",
    "        repeat=False \n",
    ")"
   ]
  },
  {
   "cell_type": "code",
   "execution_count": 7,
   "id": "imported-mailing",
   "metadata": {
    "execution": {
     "iopub.execute_input": "2021-07-05T14:35:02.325755Z",
     "iopub.status.busy": "2021-07-05T14:35:02.325253Z",
     "iopub.status.idle": "2021-07-05T14:41:17.280072Z",
     "shell.execute_reply": "2021-07-05T14:41:17.279363Z",
     "shell.execute_reply.started": "2021-07-04T16:29:52.602525Z"
    },
    "papermill": {
     "duration": 374.968304,
     "end_time": "2021-07-05T14:41:17.280260",
     "exception": false,
     "start_time": "2021-07-05T14:35:02.311956",
     "status": "completed"
    },
    "tags": []
   },
   "outputs": [
    {
     "name": "stderr",
     "output_type": "stream",
     "text": [
      "100%|█████████▉| 2196017/2196018 [05:11<00:00, 7047.10it/s]\n"
     ]
    }
   ],
   "source": [
    "# 加载词向量\n",
    "vectors = Vectors(name='../input/glove840b300dtxt/glove.840B.300d.txt')\n",
    "TEXT.build_vocab(dataset, vectors=vectors)\n",
    "weight_matrix = TEXT.vocab.vectors"
   ]
  },
  {
   "cell_type": "code",
   "execution_count": 8,
   "id": "cosmetic-honor",
   "metadata": {
    "execution": {
     "iopub.execute_input": "2021-07-05T14:41:27.348166Z",
     "iopub.status.busy": "2021-07-05T14:41:27.347524Z",
     "iopub.status.idle": "2021-07-05T14:41:34.937088Z",
     "shell.execute_reply": "2021-07-05T14:41:34.936548Z",
     "shell.execute_reply.started": "2021-07-04T16:29:53.551577Z"
    },
    "papermill": {
     "duration": 16.456999,
     "end_time": "2021-07-05T14:41:34.937224",
     "exception": false,
     "start_time": "2021-07-05T14:41:18.480225",
     "status": "completed"
    },
    "tags": []
   },
   "outputs": [],
   "source": [
    "# 构造模型\n",
    "model = TC_LSTM(weight_matrix).to(DEVICE)\n",
    "criterion = nn.CrossEntropyLoss(weight=torch.FloatTensor([1, 2.69, 3.42, 23.78])).to(DEVICE)\n",
    "optimizer = optim.Adam(model.parameters(), lr=LR)"
   ]
  },
  {
   "cell_type": "code",
   "execution_count": 9,
   "id": "purple-landing",
   "metadata": {
    "execution": {
     "iopub.execute_input": "2021-07-05T14:41:37.518625Z",
     "iopub.status.busy": "2021-07-05T14:41:37.517659Z",
     "iopub.status.idle": "2021-07-05T15:19:56.652893Z",
     "shell.execute_reply": "2021-07-05T15:19:56.651257Z",
     "shell.execute_reply.started": "2021-07-04T16:29:53.565437Z"
    },
    "papermill": {
     "duration": 2300.949427,
     "end_time": "2021-07-05T15:19:56.653066",
     "exception": false,
     "start_time": "2021-07-05T14:41:35.703639",
     "status": "completed"
    },
    "tags": []
   },
   "outputs": [
    {
     "name": "stderr",
     "output_type": "stream",
     "text": [
      "100%|██████████| 128/128 [38:18<00:00, 17.96s/it]\n"
     ]
    }
   ],
   "source": [
    "# 训练模型\n",
    "los, acc = [], []\n",
    "for epoch in tqdm(range(EPOCHS)):\n",
    "    for step, batch in enumerate(train_iter):\n",
    "        pred = model([batch.input_l.to(DEVICE), batch.input_r.to(DEVICE), batch.input_t.to(DEVICE)])\n",
    "        loss = criterion(pred, batch.label.to(DEVICE))\n",
    "        \n",
    "        optimizer.zero_grad()\n",
    "        loss.backward()\n",
    "        optimizer.step()\n",
    "    \n",
    "    los.append(loss)\n",
    "    acc.append(get_acc(model, trial_iter))"
   ]
  },
  {
   "cell_type": "code",
   "execution_count": 10,
   "id": "retained-python",
   "metadata": {
    "execution": {
     "iopub.execute_input": "2021-07-05T15:19:58.550099Z",
     "iopub.status.busy": "2021-07-05T15:19:58.549426Z",
     "iopub.status.idle": "2021-07-05T15:19:58.734749Z",
     "shell.execute_reply": "2021-07-05T15:19:58.735169Z",
     "shell.execute_reply.started": "2021-07-04T16:30:59.269176Z"
    },
    "papermill": {
     "duration": 1.256782,
     "end_time": "2021-07-05T15:19:58.735314",
     "exception": false,
     "start_time": "2021-07-05T15:19:57.478532",
     "status": "completed"
    },
    "tags": []
   },
   "outputs": [
    {
     "data": {
      "text/plain": [
       "[<matplotlib.lines.Line2D at 0x7f1e6b3aee90>]"
      ]
     },
     "execution_count": 10,
     "metadata": {},
     "output_type": "execute_result"
    },
    {
     "data": {
      "image/png": "[encoded data removed]",
      "text/plain": [
       "<Figure size 432x288 with 1 Axes>"
      ]
     },
     "metadata": {
      "needs_background": "light"
     },
     "output_type": "display_data"
    }
   ],
   "source": [
    "# 可视化\n",
    "plt.plot(los)"
   ]
  },
  {
   "cell_type": "code",
   "execution_count": 11,
   "id": "average-nursing",
   "metadata": {
    "execution": {
     "iopub.execute_input": "2021-07-05T15:20:00.366282Z",
     "iopub.status.busy": "2021-07-05T15:20:00.365131Z",
     "iopub.status.idle": "2021-07-05T15:20:00.478603Z",
     "shell.execute_reply": "2021-07-05T15:20:00.479051Z",
     "shell.execute_reply.started": "2021-07-04T16:30:59.430006Z"
    },
    "papermill": {
     "duration": 0.967453,
     "end_time": "2021-07-05T15:20:00.479201",
     "exception": false,
     "start_time": "2021-07-05T15:19:59.511748",
     "status": "completed"
    },
    "tags": []
   },
   "outputs": [
    {
     "data": {
      "text/plain": [
       "[<matplotlib.lines.Line2D at 0x7f1e6b252510>]"
      ]
     },
     "execution_count": 11,
     "metadata": {},
     "output_type": "execute_result"
    },
    {
     "data": {
      "image/png": "[encoded data removed]",
      "text/plain": [
       "<Figure size 432x288 with 1 Axes>"
      ]
     },
     "metadata": {
      "needs_background": "light"
     },
     "output_type": "display_data"
    }
   ],
   "source": [
    "plt.plot(acc)"
   ]
  }
 ],
 "metadata": {
  "kernelspec": {
   "display_name": "Python 3",
   "language": "python",
   "name": "python3"
  },
  "language_info": {
   "codemirror_mode": {
    "name": "ipython",
    "version": 3
   },
   "file_extension": ".py",
   "mimetype": "text/x-python",
   "name": "python",
   "nbconvert_exporter": "python",
   "pygments_lexer": "ipython3",
   "version": "3.7.10"
  },
  "papermill": {
   "default_parameters": {},
   "duration": 2710.021893,
   "end_time": "2021-07-05T15:20:03.238141",
   "environment_variables": {},
   "exception": null,
   "input_path": "__notebook__.ipynb",
   "output_path": "__notebook__.ipynb",
   "parameters": {},
   "start_time": "2021-07-05T14:34:53.216248",
   "version": "2.3.3"
  }
 },
 "nbformat": 4,
 "nbformat_minor": 5
}
