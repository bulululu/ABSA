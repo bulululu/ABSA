{
 "cells": [
  {
   "cell_type": "code",
   "execution_count": 1,
   "id": "advanced-consent",
   "metadata": {
    "execution": {
     "iopub.execute_input": "2021-07-05T13:21:04.682974Z",
     "iopub.status.busy": "2021-07-05T13:21:04.681810Z",
     "iopub.status.idle": "2021-07-05T13:21:04.690055Z",
     "shell.execute_reply": "2021-07-05T13:21:04.690575Z",
     "shell.execute_reply.started": "2021-07-05T13:14:27.418573Z"
    },
    "papermill": {
     "duration": 0.019525,
     "end_time": "2021-07-05T13:21:04.690850",
     "exception": false,
     "start_time": "2021-07-05T13:21:04.671325",
     "status": "completed"
    },
    "tags": []
   },
   "outputs": [],
   "source": [
    "import pandas as pd\n",
    "import xml.etree.cElementTree as ET"
   ]
  },
  {
   "cell_type": "code",
   "execution_count": 2,
   "id": "bacterial-jones",
   "metadata": {
    "execution": {
     "iopub.execute_input": "2021-07-05T13:21:04.705309Z",
     "iopub.status.busy": "2021-07-05T13:21:04.704692Z",
     "iopub.status.idle": "2021-07-05T13:21:04.712038Z",
     "shell.execute_reply": "2021-07-05T13:21:04.712552Z",
     "shell.execute_reply.started": "2021-07-05T13:14:27.425437Z"
    },
    "papermill": {
     "duration": 0.015898,
     "end_time": "2021-07-05T13:21:04.712730",
     "exception": false,
     "start_time": "2021-07-05T13:21:04.696832",
     "status": "completed"
    },
    "tags": []
   },
   "outputs": [],
   "source": [
    "# 加载category数据并转换为csv格式\n",
    "def category_to_csv(path):\n",
    "    tree = ET.parse(path)\n",
    "    root = tree.getroot()\n",
    "    # category级别\n",
    "    data = []\n",
    "    for sentence in root.findall('sentence'):\n",
    "        text = sentence.find('text').text\n",
    "        aspectCategories = sentence.find('aspectCategories')\n",
    "        if aspectCategories:\n",
    "            for aspectCategory in aspectCategories.findall('aspectCategory'):\n",
    "                for category in aspectCategory.get('category').split('/'):\n",
    "                    polarity = aspectCategory.get('polarity')\n",
    "                    data.append((text, category, polarity))\n",
    "    df=pd.DataFrame(data,columns=['text','category','polarity'])\n",
    "    return df"
   ]
  },
  {
   "cell_type": "code",
   "execution_count": 3,
   "id": "palestinian-armenia",
   "metadata": {
    "execution": {
     "iopub.execute_input": "2021-07-05T13:21:04.731578Z",
     "iopub.status.busy": "2021-07-05T13:21:04.730933Z",
     "iopub.status.idle": "2021-07-05T13:21:04.732777Z",
     "shell.execute_reply": "2021-07-05T13:21:04.733228Z",
     "shell.execute_reply.started": "2021-07-05T13:14:27.440249Z"
    },
    "papermill": {
     "duration": 0.015221,
     "end_time": "2021-07-05T13:21:04.733413",
     "exception": false,
     "start_time": "2021-07-05T13:21:04.718192",
     "status": "completed"
    },
    "tags": []
   },
   "outputs": [],
   "source": [
    "# 加载term数据并转换为csv格式\n",
    "def term_to_csv(path):\n",
    "    tree = ET.parse(path)\n",
    "    root = tree.getroot()\n",
    "    # term级别\n",
    "    data=[]\n",
    "    for sentence in root.findall('sentence'):\n",
    "        text = sentence.find('text').text\n",
    "        aspectTerms=sentence.find('aspectTerms')\n",
    "        if aspectTerms:\n",
    "            for aspectTerm in aspectTerms.findall('aspectTerm'):\n",
    "                start = aspectTerm.get('from')\n",
    "                end = aspectTerm.get('to')\n",
    "                for term in aspectTerm.get('term').split('/'):\n",
    "                    polarity = aspectTerm.get('polarity')\n",
    "                    data.append((text, term, start, end, polarity))\n",
    "    df = pd.DataFrame(data,columns=['text', 'term', 'start', 'end', 'polarity'])\n",
    "    return df"
   ]
  },
  {
   "cell_type": "code",
   "execution_count": 4,
   "id": "turned-simulation",
   "metadata": {
    "execution": {
     "iopub.execute_input": "2021-07-05T13:21:04.746666Z",
     "iopub.status.busy": "2021-07-05T13:21:04.746057Z",
     "iopub.status.idle": "2021-07-05T13:21:05.068257Z",
     "shell.execute_reply": "2021-07-05T13:21:05.068809Z",
     "shell.execute_reply.started": "2021-07-05T13:19:47.466852Z"
    },
    "papermill": {
     "duration": 0.33028,
     "end_time": "2021-07-05T13:21:05.068994",
     "exception": false,
     "start_time": "2021-07-05T13:21:04.738714",
     "status": "completed"
    },
    "tags": []
   },
   "outputs": [],
   "source": [
    "restaurant_category = category_to_csv('../input/semeval-14-restaurant-review/Restaurants_Train_v2.xml')\n",
    "restaurant_category_train = restaurant_category.sample(frac=0.9, axis=0)\n",
    "restaurant_category_trial = restaurant_category[~restaurant_category.index.isin(restaurant_category_train.index)]\n",
    "\n",
    "restaurant_term = term_to_csv('../input/semeval-14-restaurant-review/Restaurants_Train_v2.xml')\n",
    "restaurant_term_train = restaurant_term.sample(frac=0.9, axis=0)\n",
    "restaurant_term_trial = restaurant_term[~restaurant_term.index.isin(restaurant_term_train.index)]\n",
    "\n",
    "restaurant_category_train.to_csv('restaurant_train_category.csv')\n",
    "restaurant_category_trial.to_csv('restaurant_trial_category.csv')\n",
    "restaurant_term_train.to_csv('restaurant_train_term.csv')\n",
    "restaurant_term_trial.to_csv('restaurant_trial_term.csv')"
   ]
  },
  {
   "cell_type": "code",
   "execution_count": 5,
   "id": "industrial-costa",
   "metadata": {
    "execution": {
     "iopub.execute_input": "2021-07-05T13:21:05.083095Z",
     "iopub.status.busy": "2021-07-05T13:21:05.082485Z",
     "iopub.status.idle": "2021-07-05T13:21:05.089164Z",
     "shell.execute_reply": "2021-07-05T13:21:05.089692Z",
     "shell.execute_reply.started": "2021-07-05T13:19:27.652783Z"
    },
    "papermill": {
     "duration": 0.015287,
     "end_time": "2021-07-05T13:21:05.089857",
     "exception": false,
     "start_time": "2021-07-05T13:21:05.074570",
     "status": "completed"
    },
    "tags": []
   },
   "outputs": [
    {
     "data": {
      "text/plain": [
       "369"
      ]
     },
     "execution_count": 5,
     "metadata": {},
     "output_type": "execute_result"
    }
   ],
   "source": [
    "len(restaurant_term_trial)"
   ]
  }
 ],
 "metadata": {
  "kernelspec": {
   "display_name": "Python 3",
   "language": "python",
   "name": "python3"
  },
  "language_info": {
   "codemirror_mode": {
    "name": "ipython",
    "version": 3
   },
   "file_extension": ".py",
   "mimetype": "text/x-python",
   "name": "python",
   "nbconvert_exporter": "python",
   "pygments_lexer": "ipython3",
   "version": "3.7.10"
  },
  "papermill": {
   "default_parameters": {},
   "duration": 9.851891,
   "end_time": "2021-07-05T13:21:06.462214",
   "environment_variables": {},
   "exception": null,
   "input_path": "__notebook__.ipynb",
   "output_path": "__notebook__.ipynb",
   "parameters": {},
   "start_time": "2021-07-05T13:20:56.610323",
   "version": "2.3.3"
  }
 },
 "nbformat": 4,
 "nbformat_minor": 5
}
