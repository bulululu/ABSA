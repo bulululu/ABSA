{
 "cells": [
  {
   "cell_type": "code",
   "execution_count": 1,
   "id": "graduate-treasury",
   "metadata": {
    "execution": {
     "iopub.execute_input": "2021-07-07T08:40:51.686093Z",
     "iopub.status.busy": "2021-07-07T08:40:51.685455Z",
     "iopub.status.idle": "2021-07-07T08:40:53.690346Z",
     "shell.execute_reply": "2021-07-07T08:40:53.689400Z",
     "shell.execute_reply.started": "2021-07-07T08:37:14.154367Z"
    },
    "papermill": {
     "duration": 2.024994,
     "end_time": "2021-07-07T08:40:53.690507",
     "exception": false,
     "start_time": "2021-07-07T08:40:51.665513",
     "status": "completed"
    },
    "tags": []
   },
   "outputs": [],
   "source": [
    "import torch\n",
    "import torch.nn as nn\n",
    "import torch.optim as optim\n",
    "import torch.nn.functional as F\n",
    "import torch.utils.data as Data\n",
    "\n",
    "from torchtext import data\n",
    "from torchtext.vocab import Vectors\n",
    "from torchtext.data import Iterator, BucketIterator\n",
    "\n",
    "import pandas as pd\n",
    "import numpy as np\n",
    "\n",
    "import re\n",
    "from tqdm import tqdm\n",
    "import matplotlib.pyplot as plt\n",
    "from sklearn.metrics import accuracy_score\n",
    "\n",
    "import warnings\n",
    "warnings.filterwarnings(\"ignore\")"
   ]
  },
  {
   "cell_type": "code",
   "execution_count": 2,
   "id": "common-strike",
   "metadata": {
    "execution": {
     "iopub.execute_input": "2021-07-07T08:40:53.751776Z",
     "iopub.status.busy": "2021-07-07T08:40:53.750971Z",
     "iopub.status.idle": "2021-07-07T08:40:53.753434Z",
     "shell.execute_reply": "2021-07-07T08:40:53.753013Z",
     "shell.execute_reply.started": "2021-07-07T08:37:16.119321Z"
    },
    "papermill": {
     "duration": 0.054304,
     "end_time": "2021-07-07T08:40:53.753548",
     "exception": false,
     "start_time": "2021-07-07T08:40:53.699244",
     "status": "completed"
    },
    "tags": []
   },
   "outputs": [],
   "source": [
    "# 定义超参数\n",
    "LR = 0.001\n",
    "EPOCHS = 128\n",
    "OUT_NUM = 4\n",
    "BATCH_SIZE = 1\n",
    "\n",
    "HIDDEN_NUM = 256\n",
    "LAYER_NUM = 2\n",
    "\n",
    "HOP_NUM = 8\n",
    "\n",
    "DEVICE = torch.device(\"cuda\" if torch.cuda.is_available() else \"cpu\")\n",
    "polarity2num = {'positive':0, 'negative':1, 'neutral':2, 'conflict':3}"
   ]
  },
  {
   "cell_type": "code",
   "execution_count": 3,
   "id": "amino-heading",
   "metadata": {
    "execution": {
     "iopub.execute_input": "2021-07-07T08:40:53.780312Z",
     "iopub.status.busy": "2021-07-07T08:40:53.779648Z",
     "iopub.status.idle": "2021-07-07T08:40:53.782511Z",
     "shell.execute_reply": "2021-07-07T08:40:53.782083Z",
     "shell.execute_reply.started": "2021-07-07T08:37:16.194478Z"
    },
    "papermill": {
     "duration": 0.020583,
     "end_time": "2021-07-07T08:40:53.782610",
     "exception": false,
     "start_time": "2021-07-07T08:40:53.762027",
     "status": "completed"
    },
    "tags": []
   },
   "outputs": [],
   "source": [
    "# 按照paper预处理数据，构建dataset\n",
    "def data_process(df, text_field, label_field):\n",
    "    texts = df.text.apply(lambda x: re.findall(r'\\b\\w+\\b',x)).values.tolist()\n",
    "    terms = df.term.apply(lambda x: re.findall(r'\\b\\w+\\b',x)).values.tolist()\n",
    "    idxs_l = [texts[i].index(terms[i][0]) for i in range(len(texts))]\n",
    "    idxs_r = [texts[i].index(terms[i][-1]) for i in range(len(texts))]\n",
    "    inputs = [' '.join(texts[i][:idxs_l[i]]+texts[i][idxs_r[i]+1:]) for i in range(len(texts))]\n",
    "    \n",
    "    for pol in polarity2num:\n",
    "        df.polarity = df.polarity.replace(pol, polarity2num[pol])\n",
    "    labels = df.polarity\n",
    "    \n",
    "    fields = [(\"text\", text_field), (\"term\", text_field), ('location', label_field), (\"label\", label_field)]       \n",
    "    examples = []\n",
    "    for text, term, idx_l, label in tqdm(zip(inputs, terms, idxs_l, labels)):\n",
    "        examples.append(data.Example.fromlist([text, term, idx_l, label], fields))\n",
    "    \n",
    "    dataset = data.Dataset(examples, fields)\n",
    "    return dataset"
   ]
  },
  {
   "cell_type": "code",
   "execution_count": 4,
   "id": "favorite-while",
   "metadata": {
    "execution": {
     "iopub.execute_input": "2021-07-07T08:40:53.899568Z",
     "iopub.status.busy": "2021-07-07T08:40:53.897880Z",
     "iopub.status.idle": "2021-07-07T08:40:53.900208Z",
     "shell.execute_reply": "2021-07-07T08:40:53.900613Z",
     "shell.execute_reply.started": "2021-07-07T08:37:16.209232Z"
    },
    "papermill": {
     "duration": 0.109957,
     "end_time": "2021-07-07T08:40:53.900752",
     "exception": false,
     "start_time": "2021-07-07T08:40:53.790795",
     "status": "completed"
    },
    "tags": []
   },
   "outputs": [],
   "source": [
    "# 定义RAM模型\n",
    "class RAM(nn.Module):\n",
    "    def __init__(self, weight_matrix):\n",
    "        super(RAM, self).__init__()\n",
    "        self.embedding = nn.Embedding(weight_matrix.shape[0], weight_matrix.shape[1])  \n",
    "        self.embedding.weight.data.copy_(weight_matrix)\n",
    "\n",
    "        self.lstm = nn.LSTM(input_size=weight_matrix.shape[1], \n",
    "                            hidden_size=HIDDEN_NUM, \n",
    "                            num_layers=LAYER_NUM, \n",
    "                            bidirectional=True, \n",
    "                            dropout=0.5)\n",
    "        self.attention = nn.Linear(weight_matrix.shape[1]+2*HIDDEN_NUM+1, 1)\n",
    "        self.gru = nn.GRU(input_size=2*HIDDEN_NUM+1, hidden_size=weight_matrix.shape[1])\n",
    "        self.out = nn.Linear(weight_matrix.shape[1], OUT_NUM)\n",
    "\n",
    "    def forward(self, X):\n",
    "        embed_text = self.embedding(X[0])\n",
    "        aspect = torch.mean(self.embedding(X[1]), dim=0, keepdim=True)\n",
    "        location = X[2]\n",
    "        \n",
    "        n = embed_text.shape[0]\n",
    "        batch_size = embed_text.shape[1]\n",
    "        d = embed_text.shape[2]\n",
    "        \n",
    "        hidden_state = torch.randn(LAYER_NUM*2, batch_size, HIDDEN_NUM).to(DEVICE)\n",
    "        cell_state = torch.randn(LAYER_NUM*2, batch_size, HIDDEN_NUM).to(DEVICE)      \n",
    "        memory, (_, _) = self.lstm(embed_text, (hidden_state, cell_state))       \n",
    "        ws, us = [], []\n",
    "        for i in range(batch_size):\n",
    "            w, u = [], []\n",
    "            for  j in range(n):\n",
    "                a = (location[i]-j) if location[i]>j else (j-location[i]+1)\n",
    "                w.append(1-a/n)\n",
    "                u.append(a/n)\n",
    "            ws.append(w)\n",
    "            us.append(u)\n",
    "        ws = torch.tensor([ws] * batch_size).transpose(0, 2).to(DEVICE)\n",
    "        us = torch.tensor([us]).transpose(0, 2).to(DEVICE)\n",
    "        memory = torch.cat((torch.bmm(ws, memory), us), dim=2)\n",
    "\n",
    "        for k in range(HOP_NUM):\n",
    "            embed_input = torch.cat((memory ,torch.cat(([aspect] * n))), dim=2)\n",
    "            score = F.softmax(torch.tanh(self.attention(embed_input)).transpose(0, 1), dim=1)\n",
    "            vec = torch.bmm(memory.transpose(0, 1).transpose(1, 2), score).transpose(1, 2).transpose(0, 1)\n",
    "            _, aspect = self.gru(vec, aspect)\n",
    "        \n",
    "        out = self.out(aspect.squeeze(dim=0))\n",
    "        return out"
   ]
  },
  {
   "cell_type": "code",
   "execution_count": 5,
   "id": "opened-austria",
   "metadata": {
    "execution": {
     "iopub.execute_input": "2021-07-07T08:40:53.923131Z",
     "iopub.status.busy": "2021-07-07T08:40:53.922453Z",
     "iopub.status.idle": "2021-07-07T08:40:53.925281Z",
     "shell.execute_reply": "2021-07-07T08:40:53.924858Z",
     "shell.execute_reply.started": "2021-07-07T08:37:16.319162Z"
    },
    "papermill": {
     "duration": 0.015942,
     "end_time": "2021-07-07T08:40:53.925384",
     "exception": false,
     "start_time": "2021-07-07T08:40:53.909442",
     "status": "completed"
    },
    "tags": []
   },
   "outputs": [],
   "source": [
    "# 计算正确率\n",
    "def get_acc(model, trial_iter):\n",
    "    pred, real = [], []\n",
    "    for batch in trial_iter:\n",
    "        pred.extend(model([batch.text.to(DEVICE), batch.term.to(DEVICE), batch.location.to(DEVICE)]).data.max(1, keepdim=True)[1].tolist())\n",
    "        real.extend(batch.label.data.tolist())\n",
    "    accuracy = accuracy_score(pred, real)  \n",
    "    return accuracy"
   ]
  },
  {
   "cell_type": "code",
   "execution_count": 6,
   "id": "affecting-boutique",
   "metadata": {
    "execution": {
     "iopub.execute_input": "2021-07-07T08:40:53.954301Z",
     "iopub.status.busy": "2021-07-07T08:40:53.953764Z",
     "iopub.status.idle": "2021-07-07T08:40:54.244701Z",
     "shell.execute_reply": "2021-07-07T08:40:54.244300Z",
     "shell.execute_reply.started": "2021-07-07T08:37:16.333434Z"
    },
    "papermill": {
     "duration": 0.311243,
     "end_time": "2021-07-07T08:40:54.244816",
     "exception": false,
     "start_time": "2021-07-07T08:40:53.933573",
     "status": "completed"
    },
    "tags": []
   },
   "outputs": [
    {
     "name": "stderr",
     "output_type": "stream",
     "text": [
      "3324it [00:00, 52869.98it/s]\n",
      "369it [00:00, 44700.16it/s]\n",
      "3693it [00:00, 52392.80it/s]\n"
     ]
    }
   ],
   "source": [
    "# 构造数据\n",
    "df_train = pd.read_csv('../input/semeval-14-restaurant-review/restaurant_train_term.csv')\n",
    "df_trial = pd.read_csv('../input/semeval-14-restaurant-review/restaurant_trial_term.csv')\n",
    "\n",
    "tokenize = lambda x: x.split()\n",
    "TEXT = data.Field(sequential=True, lower=True, tokenize=tokenize)\n",
    "LABEL = data.Field(sequential=False, use_vocab=False)\n",
    "\n",
    "dataset_train = data_process(df_train, TEXT, LABEL)\n",
    "dataset_trial = data_process(df_trial, TEXT, LABEL)\n",
    "dataset = data_process(pd.concat([df_trial, df_train], axis=0, ignore_index=True), TEXT, LABEL)\n",
    "\n",
    "train_iter, trial_iter = BucketIterator.splits(\n",
    "        (dataset_train, dataset_trial),\n",
    "        batch_sizes=(BATCH_SIZE, BATCH_SIZE),\n",
    "        device = DEVICE, \n",
    "        sort_key=lambda x: len(x.text),\n",
    "        sort_within_batch=False,\n",
    "        repeat=False \n",
    ")"
   ]
  },
  {
   "cell_type": "code",
   "execution_count": 7,
   "id": "round-range",
   "metadata": {
    "execution": {
     "iopub.execute_input": "2021-07-07T08:40:54.268915Z",
     "iopub.status.busy": "2021-07-07T08:40:54.268412Z",
     "iopub.status.idle": "2021-07-07T08:47:11.504468Z",
     "shell.execute_reply": "2021-07-07T08:47:11.503577Z",
     "shell.execute_reply.started": "2021-07-07T08:37:16.656665Z"
    },
    "papermill": {
     "duration": 377.249346,
     "end_time": "2021-07-07T08:47:11.504617",
     "exception": false,
     "start_time": "2021-07-07T08:40:54.255271",
     "status": "completed"
    },
    "tags": []
   },
   "outputs": [
    {
     "name": "stderr",
     "output_type": "stream",
     "text": [
      "100%|█████████▉| 2196017/2196018 [05:16<00:00, 6936.73it/s]\n"
     ]
    }
   ],
   "source": [
    "# 加载词向量\n",
    "vectors = Vectors(name='../input/glove840b300dtxt/glove.840B.300d.txt')\n",
    "TEXT.build_vocab(dataset, vectors=vectors)\n",
    "weight_matrix = TEXT.vocab.vectors"
   ]
  },
  {
   "cell_type": "code",
   "execution_count": 8,
   "id": "acquired-migration",
   "metadata": {
    "execution": {
     "iopub.execute_input": "2021-07-07T08:47:33.315256Z",
     "iopub.status.busy": "2021-07-07T08:47:33.140754Z",
     "iopub.status.idle": "2021-07-07T08:47:38.401662Z",
     "shell.execute_reply": "2021-07-07T08:47:38.400520Z",
     "shell.execute_reply.started": "2021-07-07T08:37:35.262254Z"
    },
    "papermill": {
     "duration": 26.099904,
     "end_time": "2021-07-07T08:47:38.401807",
     "exception": false,
     "start_time": "2021-07-07T08:47:12.301903",
     "status": "completed"
    },
    "tags": []
   },
   "outputs": [],
   "source": [
    "# 构造模型\n",
    "model = RAM(weight_matrix).to(DEVICE)\n",
    "criterion = nn.CrossEntropyLoss(weight=torch.FloatTensor([1, 2.68, 3.42, 23.74])).to(DEVICE)\n",
    "optimizer = optim.Adam(model.parameters(), lr=LR)"
   ]
  },
  {
   "cell_type": "code",
   "execution_count": 9,
   "id": "discrete-federal",
   "metadata": {
    "execution": {
     "iopub.execute_input": "2021-07-07T08:47:39.925006Z",
     "iopub.status.busy": "2021-07-07T08:47:39.924252Z",
     "iopub.status.idle": "2021-07-07T11:27:40.471093Z",
     "shell.execute_reply": "2021-07-07T11:27:40.469750Z",
     "shell.execute_reply.started": "2021-07-07T08:37:40.349568Z"
    },
    "papermill": {
     "duration": 9601.310397,
     "end_time": "2021-07-07T11:27:40.471240",
     "exception": false,
     "start_time": "2021-07-07T08:47:39.160843",
     "status": "completed"
    },
    "tags": []
   },
   "outputs": [
    {
     "name": "stderr",
     "output_type": "stream",
     "text": [
      "100%|██████████| 128/128 [2:39:59<00:00, 75.00s/it]\n"
     ]
    }
   ],
   "source": [
    "# 训练模型\n",
    "los, acc = [], []\n",
    "for epoch in tqdm(range(EPOCHS)):\n",
    "    for step, batch in enumerate(train_iter):\n",
    "        pred = model([batch.text.to(DEVICE), batch.term.to(DEVICE), batch.location.to(DEVICE)])\n",
    "        loss = criterion(pred, batch.label.to(DEVICE))\n",
    "        \n",
    "        optimizer.zero_grad()\n",
    "        loss.backward()\n",
    "        optimizer.step()\n",
    "    \n",
    "    los.append(loss)\n",
    "    acc.append(get_acc(model, trial_iter))"
   ]
  },
  {
   "cell_type": "code",
   "execution_count": 10,
   "id": "hispanic-internet",
   "metadata": {
    "execution": {
     "iopub.execute_input": "2021-07-07T11:27:42.575338Z",
     "iopub.status.busy": "2021-07-07T11:27:42.574747Z",
     "iopub.status.idle": "2021-07-07T11:27:42.764196Z",
     "shell.execute_reply": "2021-07-07T11:27:42.763781Z",
     "shell.execute_reply.started": "2021-07-07T08:38:48.099683Z"
    },
    "papermill": {
     "duration": 1.200872,
     "end_time": "2021-07-07T11:27:42.764313",
     "exception": false,
     "start_time": "2021-07-07T11:27:41.563441",
     "status": "completed"
    },
    "tags": []
   },
   "outputs": [
    {
     "data": {
      "text/plain": [
       "[<matplotlib.lines.Line2D at 0x7f3c74d42410>]"
      ]
     },
     "execution_count": 10,
     "metadata": {},
     "output_type": "execute_result"
    },
    {
     "data": {
      "image/png": "[encoded data removed]",
      "text/plain": [
       "<Figure size 432x288 with 1 Axes>"
      ]
     },
     "metadata": {
      "needs_background": "light"
     },
     "output_type": "display_data"
    }
   ],
   "source": [
    "# 可视化\n",
    "plt.plot(los)"
   ]
  },
  {
   "cell_type": "code",
   "execution_count": 11,
   "id": "selected-search",
   "metadata": {
    "execution": {
     "iopub.execute_input": "2021-07-07T11:27:44.399526Z",
     "iopub.status.busy": "2021-07-07T11:27:44.398568Z",
     "iopub.status.idle": "2021-07-07T11:27:44.599319Z",
     "shell.execute_reply": "2021-07-07T11:27:44.599949Z",
     "shell.execute_reply.started": "2021-07-07T08:38:48.330516Z"
    },
    "papermill": {
     "duration": 1.044218,
     "end_time": "2021-07-07T11:27:44.600153",
     "exception": false,
     "start_time": "2021-07-07T11:27:43.555935",
     "status": "completed"
    },
    "tags": []
   },
   "outputs": [
    {
     "data": {
      "text/plain": [
       "[<matplotlib.lines.Line2D at 0x7f3c74bdeed0>]"
      ]
     },
     "execution_count": 11,
     "metadata": {},
     "output_type": "execute_result"
    },
    {
     "data": {
      "image/png": "[encoded data removed]",
      "text/plain": [
       "<Figure size 432x288 with 1 Axes>"
      ]
     },
     "metadata": {
      "needs_background": "light"
     },
     "output_type": "display_data"
    }
   ],
   "source": [
    "plt.plot(acc)"
   ]
  }
 ],
 "metadata": {
  "kernelspec": {
   "display_name": "Python 3",
   "language": "python",
   "name": "python3"
  },
  "language_info": {
   "codemirror_mode": {
    "name": "ipython",
    "version": 3
   },
   "file_extension": ".py",
   "mimetype": "text/x-python",
   "name": "python",
   "nbconvert_exporter": "python",
   "pygments_lexer": "ipython3",
   "version": "3.7.10"
  },
  "papermill": {
   "default_parameters": {},
   "duration": 10022.593727,
   "end_time": "2021-07-07T11:27:47.555878",
   "environment_variables": {},
   "exception": null,
   "input_path": "__notebook__.ipynb",
   "output_path": "__notebook__.ipynb",
   "parameters": {},
   "start_time": "2021-07-07T08:40:44.962151",
   "version": "2.3.3"
  }
 },
 "nbformat": 4,
 "nbformat_minor": 5
}
