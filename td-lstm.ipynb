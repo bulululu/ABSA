{
 "cells": [
  {
   "cell_type": "code",
   "execution_count": 1,
   "id": "optional-portfolio",
   "metadata": {
    "execution": {
     "iopub.execute_input": "2021-07-05T13:26:58.579210Z",
     "iopub.status.busy": "2021-07-05T13:26:58.577740Z",
     "iopub.status.idle": "2021-07-05T13:27:00.558107Z",
     "shell.execute_reply": "2021-07-05T13:27:00.557150Z",
     "shell.execute_reply.started": "2021-07-04T14:53:55.705188Z"
    },
    "papermill": {
     "duration": 1.995185,
     "end_time": "2021-07-05T13:27:00.558261",
     "exception": false,
     "start_time": "2021-07-05T13:26:58.563076",
     "status": "completed"
    },
    "tags": []
   },
   "outputs": [],
   "source": [
    "import torch\n",
    "import torch.nn as nn\n",
    "import torch.optim as optim\n",
    "import torch.nn.functional as F\n",
    "import torch.utils.data as Data\n",
    "\n",
    "from torchtext import data\n",
    "from torchtext.vocab import Vectors\n",
    "from torchtext.data import Iterator, BucketIterator\n",
    "\n",
    "import pandas as pd\n",
    "import numpy as np\n",
    "\n",
    "import re\n",
    "from tqdm import tqdm\n",
    "import matplotlib.pyplot as plt\n",
    "from sklearn.metrics import accuracy_score\n",
    "\n",
    "import warnings\n",
    "warnings.filterwarnings(\"ignore\")"
   ]
  },
  {
   "cell_type": "code",
   "execution_count": 2,
   "id": "talented-composer",
   "metadata": {
    "execution": {
     "iopub.execute_input": "2021-07-05T13:27:00.621759Z",
     "iopub.status.busy": "2021-07-05T13:27:00.621167Z",
     "iopub.status.idle": "2021-07-05T13:27:00.625059Z",
     "shell.execute_reply": "2021-07-05T13:27:00.624611Z",
     "shell.execute_reply.started": "2021-07-04T14:53:55.713132Z"
    },
    "papermill": {
     "duration": 0.058235,
     "end_time": "2021-07-05T13:27:00.625174",
     "exception": false,
     "start_time": "2021-07-05T13:27:00.566939",
     "status": "completed"
    },
    "tags": []
   },
   "outputs": [],
   "source": [
    "# 定义超参数\n",
    "LR = 0.001\n",
    "EPOCHS = 128\n",
    "OUT_NUM = 4\n",
    "BATCH_SIZE = 1\n",
    "HIDDEN_NUM = 256\n",
    "\n",
    "DEVICE = torch.device(\"cuda\" if torch.cuda.is_available() else \"cpu\")\n",
    "polarity2num = {'positive':0, 'negative':1, 'neutral':2, 'conflict':3}"
   ]
  },
  {
   "cell_type": "code",
   "execution_count": 3,
   "id": "simple-integration",
   "metadata": {
    "execution": {
     "iopub.execute_input": "2021-07-05T13:27:00.652840Z",
     "iopub.status.busy": "2021-07-05T13:27:00.652192Z",
     "iopub.status.idle": "2021-07-05T13:27:00.655812Z",
     "shell.execute_reply": "2021-07-05T13:27:00.655386Z",
     "shell.execute_reply.started": "2021-07-04T14:53:55.728545Z"
    },
    "papermill": {
     "duration": 0.02196,
     "end_time": "2021-07-05T13:27:00.655925",
     "exception": false,
     "start_time": "2021-07-05T13:27:00.633965",
     "status": "completed"
    },
    "tags": []
   },
   "outputs": [],
   "source": [
    "# 按照paper预处理数据，构建dataset\n",
    "def data_process(df, text_field, label_field):\n",
    "    texts = df.text.apply(lambda x: re.findall(r'\\b\\w+\\b',x)).values.tolist()\n",
    "    terms = df.term.apply(lambda x: re.findall(r'\\b\\w+\\b',x)).values.tolist()\n",
    "    idxs_l = [texts[i].index(terms[i][0]) for i in range(len(texts))]\n",
    "    idxs_r = [texts[i].index(terms[i][-1]) for i in range(len(texts))]\n",
    "    inputs_l = [' '.join(texts[i][:idxs_r[i]+1]) for i in range(len(texts))]\n",
    "    inputs_r = [' '.join(texts[i][idxs_l[i]:][::-1]) for i in range(len(texts))]\n",
    "    \n",
    "    for pol in polarity2num:\n",
    "        df.polarity = df.polarity.replace(pol, polarity2num[pol])\n",
    "    labels = df.polarity\n",
    "    \n",
    "    fields = [(\"input_l\", text_field), (\"input_r\", text_field), (\"label\", label_field)]       \n",
    "    examples = []\n",
    "    for input_l, input_r, label in tqdm(zip(inputs_l, inputs_r, labels)):\n",
    "        examples.append(data.Example.fromlist([input_l, input_r, label], fields))\n",
    "    \n",
    "    dataset = data.Dataset(examples, fields)\n",
    "    return dataset"
   ]
  },
  {
   "cell_type": "code",
   "execution_count": 4,
   "id": "continuous-funds",
   "metadata": {
    "execution": {
     "iopub.execute_input": "2021-07-05T13:27:00.682415Z",
     "iopub.status.busy": "2021-07-05T13:27:00.681210Z",
     "iopub.status.idle": "2021-07-05T13:27:00.683492Z",
     "shell.execute_reply": "2021-07-05T13:27:00.683944Z",
     "shell.execute_reply.started": "2021-07-04T14:53:55.744544Z"
    },
    "papermill": {
     "duration": 0.019969,
     "end_time": "2021-07-05T13:27:00.684063",
     "exception": false,
     "start_time": "2021-07-05T13:27:00.664094",
     "status": "completed"
    },
    "tags": []
   },
   "outputs": [],
   "source": [
    "# 定义TD_LSTM模型\n",
    "class TD_LSTM(nn.Module):\n",
    "    def __init__(self, weight_matrix):\n",
    "        super(TD_LSTM, self).__init__()\n",
    "        self.embedding = nn.Embedding(weight_matrix.shape[0], weight_matrix.shape[1])     \n",
    "        self.embedding.weight.data.copy_(weight_matrix)\n",
    "        self.lstm_l = nn.LSTM(input_size=weight_matrix.shape[1], hidden_size=HIDDEN_NUM)\n",
    "        self.lstm_r = nn.LSTM(input_size=weight_matrix.shape[1], hidden_size=HIDDEN_NUM)\n",
    "        self.out = nn.Linear(HIDDEN_NUM*2, OUT_NUM)\n",
    "\n",
    "    def forward(self, X):\n",
    "        embed_l = self.embedding(X[0])\n",
    "        embed_r = self.embedding(X[1])\n",
    "        \n",
    "        batch_size = embed_l.shape[1]\n",
    "        \n",
    "        hidden_state_l = torch.randn(1, batch_size, HIDDEN_NUM).to(DEVICE)\n",
    "        cell_state_l = torch.randn(1, batch_size, HIDDEN_NUM).to(DEVICE)  \n",
    "        hidden_state_r = torch.randn(1, batch_size, HIDDEN_NUM).to(DEVICE)\n",
    "        cell_state_r = torch.randn(1, batch_size, HIDDEN_NUM).to(DEVICE)\n",
    "        \n",
    "        _, (hidden_l, _) = self.lstm_l(embed_l, (hidden_state_l, cell_state_l))\n",
    "        _, (hidden_r, _) = self.lstm_r(embed_r, (hidden_state_r, cell_state_r))\n",
    "        \n",
    "        hidden = torch.cat((hidden_l[-1], hidden_r[-1]), dim=1)\n",
    "        out = self.out(hidden)\n",
    "        return out"
   ]
  },
  {
   "cell_type": "code",
   "execution_count": 5,
   "id": "danish-ordinance",
   "metadata": {
    "execution": {
     "iopub.execute_input": "2021-07-05T13:27:00.705217Z",
     "iopub.status.busy": "2021-07-05T13:27:00.704708Z",
     "iopub.status.idle": "2021-07-05T13:27:00.708076Z",
     "shell.execute_reply": "2021-07-05T13:27:00.708433Z",
     "shell.execute_reply.started": "2021-07-04T14:53:55.755687Z"
    },
    "papermill": {
     "duration": 0.016375,
     "end_time": "2021-07-05T13:27:00.708566",
     "exception": false,
     "start_time": "2021-07-05T13:27:00.692191",
     "status": "completed"
    },
    "tags": []
   },
   "outputs": [],
   "source": [
    "# 计算正确率\n",
    "def get_acc(model, trial_iter):\n",
    "    pred, real = [], []\n",
    "    for batch in trial_iter:\n",
    "        pred.extend(model([batch.input_l.to(DEVICE), batch.input_r.to(DEVICE)]).data.max(1, keepdim=True)[1].tolist())\n",
    "        real.extend(batch.label.data.tolist())\n",
    "    accuracy = accuracy_score(pred, real)  \n",
    "    return accuracy"
   ]
  },
  {
   "cell_type": "code",
   "execution_count": 6,
   "id": "executive-bachelor",
   "metadata": {
    "execution": {
     "iopub.execute_input": "2021-07-05T13:27:00.736931Z",
     "iopub.status.busy": "2021-07-05T13:27:00.736364Z",
     "iopub.status.idle": "2021-07-05T13:27:01.213796Z",
     "shell.execute_reply": "2021-07-05T13:27:01.215120Z",
     "shell.execute_reply.started": "2021-07-04T14:53:55.768186Z"
    },
    "papermill": {
     "duration": 0.498827,
     "end_time": "2021-07-05T13:27:01.215457",
     "exception": false,
     "start_time": "2021-07-05T13:27:00.716630",
     "status": "completed"
    },
    "tags": []
   },
   "outputs": [
    {
     "name": "stderr",
     "output_type": "stream",
     "text": [
      "3324it [00:00, 50617.44it/s]\n",
      "369it [00:00, 48084.57it/s]\n",
      "3693it [00:00, 31756.72it/s]\n"
     ]
    }
   ],
   "source": [
    "# 构造数据\n",
    "df_train = pd.read_csv('../input/semeval-14-restaurant-review/restaurant_train_term.csv')\n",
    "df_trial = pd.read_csv('../input/semeval-14-restaurant-review/restaurant_trial_term.csv')\n",
    "\n",
    "tokenize = lambda x: x.split()\n",
    "TEXT = data.Field(sequential=True, lower=True, tokenize=tokenize)\n",
    "LABEL = data.Field(sequential=False, use_vocab=False)\n",
    "    \n",
    "dataset_train = data_process(df_train, TEXT, LABEL)\n",
    "dataset_trial = data_process(df_trial, TEXT, LABEL)\n",
    "dataset = data_process(pd.concat([df_trial, df_train], axis=0, ignore_index=True), TEXT, LABEL)\n",
    "\n",
    "train_iter, trial_iter = BucketIterator.splits(\n",
    "        (dataset_train, dataset_trial),\n",
    "        batch_sizes=(BATCH_SIZE, BATCH_SIZE),\n",
    "        device = DEVICE, \n",
    "        sort_key=lambda x: len(x.input_l),\n",
    "        sort_within_batch=False,\n",
    "        repeat=False \n",
    ")"
   ]
  },
  {
   "cell_type": "code",
   "execution_count": 7,
   "id": "powerful-color",
   "metadata": {
    "execution": {
     "iopub.execute_input": "2021-07-05T13:27:01.265643Z",
     "iopub.status.busy": "2021-07-05T13:27:01.265115Z",
     "iopub.status.idle": "2021-07-05T13:33:44.010281Z",
     "shell.execute_reply": "2021-07-05T13:33:44.009311Z",
     "shell.execute_reply.started": "2021-07-04T14:53:56.253312Z"
    },
    "papermill": {
     "duration": 402.768606,
     "end_time": "2021-07-05T13:33:44.010430",
     "exception": false,
     "start_time": "2021-07-05T13:27:01.241824",
     "status": "completed"
    },
    "tags": []
   },
   "outputs": [
    {
     "name": "stderr",
     "output_type": "stream",
     "text": [
      "100%|█████████▉| 2196017/2196018 [05:13<00:00, 7003.64it/s]\n"
     ]
    }
   ],
   "source": [
    "# 加载词向量\n",
    "vectors = Vectors(name='../input/glove840b300dtxt/glove.840B.300d.txt')\n",
    "TEXT.build_vocab(dataset, vectors=vectors)\n",
    "weight_matrix = TEXT.vocab.vectors"
   ]
  },
  {
   "cell_type": "code",
   "execution_count": 8,
   "id": "sized-owner",
   "metadata": {
    "execution": {
     "iopub.execute_input": "2021-07-05T13:33:45.672698Z",
     "iopub.status.busy": "2021-07-05T13:33:45.672035Z",
     "iopub.status.idle": "2021-07-05T13:33:51.777821Z",
     "shell.execute_reply": "2021-07-05T13:33:51.777314Z",
     "shell.execute_reply.started": "2021-07-04T14:54:25.018875Z"
    },
    "papermill": {
     "duration": 6.944476,
     "end_time": "2021-07-05T13:33:51.777958",
     "exception": false,
     "start_time": "2021-07-05T13:33:44.833482",
     "status": "completed"
    },
    "tags": []
   },
   "outputs": [],
   "source": [
    "# 构造模型\n",
    "model = TD_LSTM(weight_matrix).to(DEVICE)\n",
    "criterion = nn.CrossEntropyLoss(weight=torch.FloatTensor([1, 2.69, 3.42, 23.78])).to(DEVICE)\n",
    "optimizer = optim.Adam(model.parameters(), lr=LR)"
   ]
  },
  {
   "cell_type": "code",
   "execution_count": 9,
   "id": "intensive-transfer",
   "metadata": {
    "execution": {
     "iopub.execute_input": "2021-07-05T13:34:07.510325Z",
     "iopub.status.busy": "2021-07-05T13:34:07.509487Z",
     "iopub.status.idle": "2021-07-05T14:06:11.460643Z",
     "shell.execute_reply": "2021-07-05T14:06:11.459306Z",
     "shell.execute_reply.started": "2021-07-04T14:54:25.059008Z"
    },
    "papermill": {
     "duration": 1924.701396,
     "end_time": "2021-07-05T14:06:11.460773",
     "exception": false,
     "start_time": "2021-07-05T13:34:06.759377",
     "status": "completed"
    },
    "tags": []
   },
   "outputs": [
    {
     "name": "stderr",
     "output_type": "stream",
     "text": [
      "100%|██████████| 128/128 [32:03<00:00, 15.02s/it]\n"
     ]
    }
   ],
   "source": [
    "# 训练模型\n",
    "los, acc = [], []\n",
    "for epoch in tqdm(range(EPOCHS)):\n",
    "    for step, batch in enumerate(train_iter):\n",
    "        pred = model([batch.input_l.to(DEVICE), batch.input_r.to(DEVICE)])\n",
    "        loss = criterion(pred, batch.label.to(DEVICE))\n",
    "        \n",
    "        optimizer.zero_grad()\n",
    "        loss.backward()\n",
    "        optimizer.step()\n",
    "    \n",
    "    los.append(loss)\n",
    "    acc.append(get_acc(model, trial_iter))"
   ]
  },
  {
   "cell_type": "code",
   "execution_count": 10,
   "id": "activated-hepatitis",
   "metadata": {
    "execution": {
     "iopub.execute_input": "2021-07-05T14:06:13.038712Z",
     "iopub.status.busy": "2021-07-05T14:06:13.038065Z",
     "iopub.status.idle": "2021-07-05T14:06:13.225228Z",
     "shell.execute_reply": "2021-07-05T14:06:13.225652Z"
    },
    "papermill": {
     "duration": 0.98754,
     "end_time": "2021-07-05T14:06:13.225802",
     "exception": false,
     "start_time": "2021-07-05T14:06:12.238262",
     "status": "completed"
    },
    "tags": []
   },
   "outputs": [
    {
     "data": {
      "text/plain": [
       "[<matplotlib.lines.Line2D at 0x7f5721b4ef10>]"
      ]
     },
     "execution_count": 10,
     "metadata": {},
     "output_type": "execute_result"
    },
    {
     "data": {
      "image/png": "[encoded data removed]",
      "text/plain": [
       "<Figure size 432x288 with 1 Axes>"
      ]
     },
     "metadata": {
      "needs_background": "light"
     },
     "output_type": "display_data"
    }
   ],
   "source": [
    "# 可视化\n",
    "plt.plot(los)"
   ]
  },
  {
   "cell_type": "code",
   "execution_count": 11,
   "id": "chemical-knight",
   "metadata": {
    "execution": {
     "iopub.execute_input": "2021-07-05T14:06:14.825077Z",
     "iopub.status.busy": "2021-07-05T14:06:14.824301Z",
     "iopub.status.idle": "2021-07-05T14:06:14.920640Z",
     "shell.execute_reply": "2021-07-05T14:06:14.921058Z"
    },
    "papermill": {
     "duration": 0.914212,
     "end_time": "2021-07-05T14:06:14.921203",
     "exception": false,
     "start_time": "2021-07-05T14:06:14.006991",
     "status": "completed"
    },
    "tags": []
   },
   "outputs": [
    {
     "data": {
      "text/plain": [
       "[<matplotlib.lines.Line2D at 0x7f5721a65f50>]"
      ]
     },
     "execution_count": 11,
     "metadata": {},
     "output_type": "execute_result"
    },
    {
     "data": {
      "image/png": "[encoded data removed]",
      "text/plain": [
       "<Figure size 432x288 with 1 Axes>"
      ]
     },
     "metadata": {
      "needs_background": "light"
     },
     "output_type": "display_data"
    }
   ],
   "source": [
    "plt.plot(acc)"
   ]
  }
 ],
 "metadata": {
  "kernelspec": {
   "display_name": "Python 3",
   "language": "python",
   "name": "python3"
  },
  "language_info": {
   "codemirror_mode": {
    "name": "ipython",
    "version": 3
   },
   "file_extension": ".py",
   "mimetype": "text/x-python",
   "name": "python",
   "nbconvert_exporter": "python",
   "pygments_lexer": "ipython3",
   "version": "3.7.10"
  },
  "papermill": {
   "default_parameters": {},
   "duration": 2366.76357,
   "end_time": "2021-07-05T14:06:18.314846",
   "environment_variables": {},
   "exception": null,
   "input_path": "__notebook__.ipynb",
   "output_path": "__notebook__.ipynb",
   "parameters": {},
   "start_time": "2021-07-05T13:26:51.551276",
   "version": "2.3.3"
  }
 },
 "nbformat": 4,
 "nbformat_minor": 5
}
