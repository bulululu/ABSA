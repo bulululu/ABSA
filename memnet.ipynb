{
 "cells": [
  {
   "cell_type": "code",
   "execution_count": 1,
   "id": "hourly-memorial",
   "metadata": {
    "execution": {
     "iopub.execute_input": "2021-07-07T07:28:52.949455Z",
     "iopub.status.busy": "2021-07-07T07:28:52.947455Z",
     "iopub.status.idle": "2021-07-07T07:28:55.523554Z",
     "shell.execute_reply": "2021-07-07T07:28:55.524149Z",
     "shell.execute_reply.started": "2021-07-06T14:18:17.131812Z"
    },
    "papermill": {
     "duration": 2.593994,
     "end_time": "2021-07-07T07:28:55.524446",
     "exception": false,
     "start_time": "2021-07-07T07:28:52.930452",
     "status": "completed"
    },
    "tags": []
   },
   "outputs": [],
   "source": [
    "import torch\n",
    "import torch.nn as nn\n",
    "import torch.optim as optim\n",
    "import torch.nn.functional as F\n",
    "import torch.utils.data as Data\n",
    "\n",
    "from torchtext import data\n",
    "from torchtext.vocab import Vectors\n",
    "from torchtext.data import Iterator, BucketIterator\n",
    "\n",
    "import pandas as pd\n",
    "import numpy as np\n",
    "\n",
    "import re\n",
    "from tqdm import tqdm\n",
    "import matplotlib.pyplot as plt\n",
    "from sklearn.metrics import accuracy_score\n",
    "\n",
    "import warnings\n",
    "warnings.filterwarnings(\"ignore\")"
   ]
  },
  {
   "cell_type": "code",
   "execution_count": 2,
   "id": "controlling-sheet",
   "metadata": {
    "execution": {
     "iopub.execute_input": "2021-07-07T07:28:55.603136Z",
     "iopub.status.busy": "2021-07-07T07:28:55.602036Z",
     "iopub.status.idle": "2021-07-07T07:28:55.605612Z",
     "shell.execute_reply": "2021-07-07T07:28:55.605090Z",
     "shell.execute_reply.started": "2021-07-06T14:18:17.143298Z"
    },
    "papermill": {
     "duration": 0.070064,
     "end_time": "2021-07-07T07:28:55.605737",
     "exception": false,
     "start_time": "2021-07-07T07:28:55.535673",
     "status": "completed"
    },
    "tags": []
   },
   "outputs": [],
   "source": [
    "# 定义超参数\n",
    "LR = 0.001\n",
    "EPOCHS = 128\n",
    "OUT_NUM = 4\n",
    "BATCH_SIZE = 1\n",
    "HOP_NUM = 8\n",
    "\n",
    "DEVICE = torch.device(\"cuda\" if torch.cuda.is_available() else \"cpu\")\n",
    "polarity2num = {'positive':0, 'negative':1, 'neutral':2, 'conflict':3}"
   ]
  },
  {
   "cell_type": "code",
   "execution_count": 3,
   "id": "convenient-advocacy",
   "metadata": {
    "execution": {
     "iopub.execute_input": "2021-07-07T07:28:55.728759Z",
     "iopub.status.busy": "2021-07-07T07:28:55.726371Z",
     "iopub.status.idle": "2021-07-07T07:28:55.729625Z",
     "shell.execute_reply": "2021-07-07T07:28:55.730214Z",
     "shell.execute_reply.started": "2021-07-06T14:18:17.156358Z"
    },
    "papermill": {
     "duration": 0.113624,
     "end_time": "2021-07-07T07:28:55.730397",
     "exception": false,
     "start_time": "2021-07-07T07:28:55.616773",
     "status": "completed"
    },
    "tags": []
   },
   "outputs": [],
   "source": [
    "# 按照paper预处理数据，构建dataset\n",
    "def data_process(df, text_field, label_field):\n",
    "    texts = df.text.apply(lambda x: re.findall(r'\\b\\w+\\b',x)).values.tolist()\n",
    "    terms = df.term.apply(lambda x: re.findall(r'\\b\\w+\\b',x)).values.tolist()\n",
    "    idxs_l = [texts[i].index(terms[i][0]) for i in range(len(texts))]\n",
    "    idxs_r = [texts[i].index(terms[i][-1]) for i in range(len(texts))]\n",
    "    inputs = [' '.join(texts[i][:idxs_l[i]]+texts[i][idxs_r[i]+1:]) for i in range(len(texts))]\n",
    "    \n",
    "    for pol in polarity2num:\n",
    "        df.polarity = df.polarity.replace(pol, polarity2num[pol])\n",
    "    labels = df.polarity\n",
    "    \n",
    "    fields = [(\"text\", text_field), (\"term\", text_field), (\"label\", label_field)]       \n",
    "    examples = []\n",
    "    for text, term, label in tqdm(zip(inputs, terms, labels)):\n",
    "        examples.append(data.Example.fromlist([text, term, label], fields))\n",
    "    \n",
    "    dataset = data.Dataset(examples, fields)\n",
    "    return dataset"
   ]
  },
  {
   "cell_type": "code",
   "execution_count": 4,
   "id": "cordless-fruit",
   "metadata": {
    "execution": {
     "iopub.execute_input": "2021-07-07T07:28:55.765683Z",
     "iopub.status.busy": "2021-07-07T07:28:55.764728Z",
     "iopub.status.idle": "2021-07-07T07:28:55.768412Z",
     "shell.execute_reply": "2021-07-07T07:28:55.767918Z",
     "shell.execute_reply.started": "2021-07-06T14:18:17.168393Z"
    },
    "papermill": {
     "duration": 0.027001,
     "end_time": "2021-07-07T07:28:55.768538",
     "exception": false,
     "start_time": "2021-07-07T07:28:55.741537",
     "status": "completed"
    },
    "tags": []
   },
   "outputs": [],
   "source": [
    "# 定义ATAE_LSTM模型\n",
    "class MemNet(nn.Module):\n",
    "    def __init__(self, weight_matrix):\n",
    "        super(MemNet, self).__init__()\n",
    "        self.embedding = nn.Embedding(weight_matrix.shape[0], weight_matrix.shape[1])  \n",
    "        self.embedding.weight.data.copy_(weight_matrix)\n",
    "        self.attention = nn.Linear(2*weight_matrix.shape[1], 1)\n",
    "        self.linear = nn.Linear(weight_matrix.shape[1], weight_matrix.shape[1])\n",
    "        self.out = nn.Linear(weight_matrix.shape[1], OUT_NUM)\n",
    "\n",
    "    def forward(self, X):\n",
    "        embed_text = self.embedding(X[0])\n",
    "        aspect = torch.mean(self.embedding(X[1]), dim=0, keepdim=True)\n",
    "        n = embed_text.shape[0]\n",
    "        batch_size = embed_text.shape[1]\n",
    "        d = embed_text.shape[2]\n",
    "        \n",
    "        for k in range(HOP_NUM):\n",
    "            v = []\n",
    "            for l in range(n):\n",
    "                v.append((1-(l+1)/n)-((k+1)/d)*(1-2*(l+1)/n))\n",
    "            v = torch.tensor([[v] * batch_size] * d).transpose(0, 2).to(DEVICE)  \n",
    "            memory = embed_text + v\n",
    "            embed_input = torch.cat((memory ,torch.cat(([aspect] * n))), dim=2)\n",
    "            score = F.softmax(torch.tanh(self.attention(embed_input)).transpose(0, 1), dim=1)\n",
    "            vec = torch.bmm(memory.transpose(0, 1).transpose(1, 2), score).transpose(1, 2).transpose(0, 1)\n",
    "            aspect = self.linear(aspect) + vec\n",
    "\n",
    "        out = self.out(aspect.squeeze(dim=0))\n",
    "        return out"
   ]
  },
  {
   "cell_type": "code",
   "execution_count": 5,
   "id": "prospective-spanking",
   "metadata": {
    "execution": {
     "iopub.execute_input": "2021-07-07T07:28:55.795839Z",
     "iopub.status.busy": "2021-07-07T07:28:55.795012Z",
     "iopub.status.idle": "2021-07-07T07:28:55.798540Z",
     "shell.execute_reply": "2021-07-07T07:28:55.799135Z",
     "shell.execute_reply.started": "2021-07-06T14:18:17.18424Z"
    },
    "papermill": {
     "duration": 0.019946,
     "end_time": "2021-07-07T07:28:55.799279",
     "exception": false,
     "start_time": "2021-07-07T07:28:55.779333",
     "status": "completed"
    },
    "tags": []
   },
   "outputs": [],
   "source": [
    "# 计算正确率\n",
    "def get_acc(model, trial_iter):\n",
    "    pred, real = [], []\n",
    "    for batch in trial_iter:\n",
    "        pred.extend(model([batch.text.to(DEVICE), batch.term.to(DEVICE)]).data.max(1, keepdim=True)[1].tolist())\n",
    "        real.extend(batch.label.data.tolist())\n",
    "    accuracy = accuracy_score(pred, real)  \n",
    "    return accuracy"
   ]
  },
  {
   "cell_type": "code",
   "execution_count": 6,
   "id": "identical-tampa",
   "metadata": {
    "execution": {
     "iopub.execute_input": "2021-07-07T07:28:55.834178Z",
     "iopub.status.busy": "2021-07-07T07:28:55.833505Z",
     "iopub.status.idle": "2021-07-07T07:28:56.189305Z",
     "shell.execute_reply": "2021-07-07T07:28:56.188566Z",
     "shell.execute_reply.started": "2021-07-06T14:18:17.19543Z"
    },
    "papermill": {
     "duration": 0.378714,
     "end_time": "2021-07-07T07:28:56.189487",
     "exception": false,
     "start_time": "2021-07-07T07:28:55.810773",
     "status": "completed"
    },
    "tags": []
   },
   "outputs": [
    {
     "name": "stderr",
     "output_type": "stream",
     "text": [
      "3324it [00:00, 45024.74it/s]\n",
      "369it [00:00, 49683.74it/s]\n",
      "3693it [00:00, 43702.87it/s]\n"
     ]
    }
   ],
   "source": [
    "# 构造数据\n",
    "df_train = pd.read_csv('../input/semeval-14-restaurant-review/restaurant_train_term.csv')\n",
    "df_trial = pd.read_csv('../input/semeval-14-restaurant-review/restaurant_trial_term.csv')\n",
    "\n",
    "tokenize = lambda x: x.split()\n",
    "TEXT = data.Field(sequential=True, lower=True, tokenize=tokenize)\n",
    "LABEL = data.Field(sequential=False, use_vocab=False)\n",
    "\n",
    "dataset_train = data_process(df_train, TEXT, LABEL)\n",
    "dataset_trial = data_process(df_trial, TEXT, LABEL)\n",
    "dataset = data_process(pd.concat([df_trial, df_train], axis=0, ignore_index=True), TEXT, LABEL)\n",
    "\n",
    "train_iter, trial_iter = BucketIterator.splits(\n",
    "        (dataset_train, dataset_trial),\n",
    "        batch_sizes=(BATCH_SIZE, BATCH_SIZE),\n",
    "        device = DEVICE, \n",
    "        sort_key=lambda x: len(x.text),\n",
    "        sort_within_batch=False,\n",
    "        repeat=False \n",
    ")"
   ]
  },
  {
   "cell_type": "code",
   "execution_count": 7,
   "id": "twelve-discharge",
   "metadata": {
    "execution": {
     "iopub.execute_input": "2021-07-07T07:28:56.220972Z",
     "iopub.status.busy": "2021-07-07T07:28:56.220295Z",
     "iopub.status.idle": "2021-07-07T07:37:14.548062Z",
     "shell.execute_reply": "2021-07-07T07:37:14.548984Z",
     "shell.execute_reply.started": "2021-07-06T14:18:17.608212Z"
    },
    "papermill": {
     "duration": 498.346229,
     "end_time": "2021-07-07T07:37:14.549266",
     "exception": false,
     "start_time": "2021-07-07T07:28:56.203037",
     "status": "completed"
    },
    "tags": []
   },
   "outputs": [
    {
     "name": "stderr",
     "output_type": "stream",
     "text": [
      "100%|█████████▉| 2196017/2196018 [06:55<00:00, 5285.66it/s]\n"
     ]
    }
   ],
   "source": [
    "# 加载词向量\n",
    "vectors = Vectors(name='../input/glove840b300dtxt/glove.840B.300d.txt')\n",
    "TEXT.build_vocab(dataset, vectors=vectors)\n",
    "weight_matrix = TEXT.vocab.vectors"
   ]
  },
  {
   "cell_type": "code",
   "execution_count": 8,
   "id": "every-drill",
   "metadata": {
    "execution": {
     "iopub.execute_input": "2021-07-07T07:37:31.080194Z",
     "iopub.status.busy": "2021-07-07T07:37:31.079234Z",
     "iopub.status.idle": "2021-07-07T07:37:36.579367Z",
     "shell.execute_reply": "2021-07-07T07:37:36.578281Z",
     "shell.execute_reply.started": "2021-07-06T14:18:18.447375Z"
    },
    "papermill": {
     "duration": 9.500089,
     "end_time": "2021-07-07T07:37:36.579523",
     "exception": false,
     "start_time": "2021-07-07T07:37:27.079434",
     "status": "completed"
    },
    "tags": []
   },
   "outputs": [],
   "source": [
    "# 构造模型\n",
    "model = MemNet(weight_matrix).to(DEVICE)\n",
    "criterion = nn.CrossEntropyLoss(weight=torch.FloatTensor([1, 2.68, 3.42, 23.74])).to(DEVICE)\n",
    "optimizer = optim.Adam(model.parameters(), lr=LR)"
   ]
  },
  {
   "cell_type": "code",
   "execution_count": 9,
   "id": "subtle-orange",
   "metadata": {
    "execution": {
     "iopub.execute_input": "2021-07-07T07:37:39.256633Z",
     "iopub.status.busy": "2021-07-07T07:37:39.255698Z",
     "iopub.status.idle": "2021-07-07T10:00:08.691940Z",
     "shell.execute_reply": "2021-07-07T10:00:08.690029Z",
     "shell.execute_reply.started": "2021-07-06T14:18:18.463411Z"
    },
    "papermill": {
     "duration": 8550.786653,
     "end_time": "2021-07-07T10:00:08.692141",
     "exception": false,
     "start_time": "2021-07-07T07:37:37.905488",
     "status": "completed"
    },
    "tags": []
   },
   "outputs": [
    {
     "name": "stderr",
     "output_type": "stream",
     "text": [
      "100%|██████████| 128/128 [2:22:28<00:00, 66.78s/it]\n"
     ]
    }
   ],
   "source": [
    "# 训练模型\n",
    "los, acc = [], []\n",
    "for epoch in tqdm(range(EPOCHS)):\n",
    "    for step, batch in enumerate(train_iter):\n",
    "        pred = model([batch.text.to(DEVICE), batch.term.to(DEVICE)])\n",
    "        loss = criterion(pred, batch.label.to(DEVICE))\n",
    "        \n",
    "        optimizer.zero_grad()\n",
    "        loss.backward()\n",
    "        optimizer.step()\n",
    "    \n",
    "    los.append(loss)\n",
    "    acc.append(get_acc(model, trial_iter))"
   ]
  },
  {
   "cell_type": "code",
   "execution_count": 10,
   "id": "active-sensitivity",
   "metadata": {
    "execution": {
     "iopub.execute_input": "2021-07-07T10:00:11.761543Z",
     "iopub.status.busy": "2021-07-07T10:00:11.760856Z",
     "iopub.status.idle": "2021-07-07T10:00:11.988691Z",
     "shell.execute_reply": "2021-07-07T10:00:11.989252Z",
     "shell.execute_reply.started": "2021-07-06T14:18:37.884084Z"
    },
    "papermill": {
     "duration": 1.658365,
     "end_time": "2021-07-07T10:00:11.989497",
     "exception": false,
     "start_time": "2021-07-07T10:00:10.331132",
     "status": "completed"
    },
    "tags": []
   },
   "outputs": [
    {
     "data": {
      "text/plain": [
       "[<matplotlib.lines.Line2D at 0x7f155be1c510>]"
      ]
     },
     "execution_count": 10,
     "metadata": {},
     "output_type": "execute_result"
    },
    {
     "data": {
      "image/png": "[encoded data removed]",
      "text/plain": [
       "<Figure size 432x288 with 1 Axes>"
      ]
     },
     "metadata": {
      "needs_background": "light"
     },
     "output_type": "display_data"
    }
   ],
   "source": [
    "# 可视化\n",
    "plt.plot(los)"
   ]
  },
  {
   "cell_type": "code",
   "execution_count": 11,
   "id": "reflected-occasions",
   "metadata": {
    "execution": {
     "iopub.execute_input": "2021-07-07T10:00:14.702380Z",
     "iopub.status.busy": "2021-07-07T10:00:14.700997Z",
     "iopub.status.idle": "2021-07-07T10:00:14.862567Z",
     "shell.execute_reply": "2021-07-07T10:00:14.863112Z",
     "shell.execute_reply.started": "2021-07-06T14:18:38.000286Z"
    },
    "papermill": {
     "duration": 1.506341,
     "end_time": "2021-07-07T10:00:14.863271",
     "exception": false,
     "start_time": "2021-07-07T10:00:13.356930",
     "status": "completed"
    },
    "tags": []
   },
   "outputs": [
    {
     "data": {
      "text/plain": [
       "[<matplotlib.lines.Line2D at 0x7f155bd33850>]"
      ]
     },
     "execution_count": 11,
     "metadata": {},
     "output_type": "execute_result"
    },
    {
     "data": {
      "image/png": "[encoded data removed]",
      "text/plain": [
       "<Figure size 432x288 with 1 Axes>"
      ]
     },
     "metadata": {
      "needs_background": "light"
     },
     "output_type": "display_data"
    }
   ],
   "source": [
    "plt.plot(acc)"
   ]
  }
 ],
 "metadata": {
  "kernelspec": {
   "display_name": "Python 3",
   "language": "python",
   "name": "python3"
  },
  "language_info": {
   "codemirror_mode": {
    "name": "ipython",
    "version": 3
   },
   "file_extension": ".py",
   "mimetype": "text/x-python",
   "name": "python",
   "nbconvert_exporter": "python",
   "pygments_lexer": "ipython3",
   "version": "3.7.10"
  },
  "papermill": {
   "default_parameters": {},
   "duration": 9093.524818,
   "end_time": "2021-07-07T10:00:18.328087",
   "environment_variables": {},
   "exception": null,
   "input_path": "__notebook__.ipynb",
   "output_path": "__notebook__.ipynb",
   "parameters": {},
   "start_time": "2021-07-07T07:28:44.803269",
   "version": "2.3.3"
  }
 },
 "nbformat": 4,
 "nbformat_minor": 5
}
