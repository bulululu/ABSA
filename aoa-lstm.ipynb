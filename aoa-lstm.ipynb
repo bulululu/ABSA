{
 "cells": [
  {
   "cell_type": "code",
   "execution_count": 1,
   "id": "rough-crazy",
   "metadata": {
    "execution": {
     "iopub.execute_input": "2021-07-07T12:03:00.543222Z",
     "iopub.status.busy": "2021-07-07T12:03:00.542580Z",
     "iopub.status.idle": "2021-07-07T12:03:02.944005Z",
     "shell.execute_reply": "2021-07-07T12:03:02.944465Z",
     "shell.execute_reply.started": "2021-07-07T11:57:52.924114Z"
    },
    "papermill": {
     "duration": 2.41829,
     "end_time": "2021-07-07T12:03:02.944732",
     "exception": false,
     "start_time": "2021-07-07T12:03:00.526442",
     "status": "completed"
    },
    "tags": []
   },
   "outputs": [],
   "source": [
    "import torch\n",
    "import torch.nn as nn\n",
    "import torch.optim as optim\n",
    "import torch.nn.functional as F\n",
    "import torch.utils.data as Data\n",
    "\n",
    "from torchtext import data\n",
    "from torchtext.vocab import Vectors\n",
    "from torchtext.data import Iterator, BucketIterator\n",
    "\n",
    "import pandas as pd\n",
    "import numpy as np\n",
    "\n",
    "import re\n",
    "from tqdm import tqdm\n",
    "import matplotlib.pyplot as plt\n",
    "from sklearn.metrics import accuracy_score\n",
    "\n",
    "import warnings\n",
    "warnings.filterwarnings(\"ignore\")"
   ]
  },
  {
   "cell_type": "code",
   "execution_count": 2,
   "id": "ranging-florida",
   "metadata": {
    "execution": {
     "iopub.execute_input": "2021-07-07T12:03:03.009165Z",
     "iopub.status.busy": "2021-07-07T12:03:03.008512Z",
     "iopub.status.idle": "2021-07-07T12:03:03.015120Z",
     "shell.execute_reply": "2021-07-07T12:03:03.015848Z",
     "shell.execute_reply.started": "2021-07-07T11:57:52.936123Z"
    },
    "papermill": {
     "duration": 0.062282,
     "end_time": "2021-07-07T12:03:03.016065",
     "exception": false,
     "start_time": "2021-07-07T12:03:02.953783",
     "status": "completed"
    },
    "tags": []
   },
   "outputs": [],
   "source": [
    "# 定义超参数\n",
    "LR = 0.001\n",
    "EPOCHS = 128\n",
    "OUT_NUM = 4\n",
    "BATCH_SIZE = 1\n",
    "\n",
    "HIDDEN_NUM = 256\n",
    "\n",
    "DEVICE = torch.device(\"cuda\" if torch.cuda.is_available() else \"cpu\")\n",
    "polarity2num = {'positive':0, 'negative':1, 'neutral':2, 'conflict':3}"
   ]
  },
  {
   "cell_type": "code",
   "execution_count": 3,
   "id": "protective-fraud",
   "metadata": {
    "execution": {
     "iopub.execute_input": "2021-07-07T12:03:03.058298Z",
     "iopub.status.busy": "2021-07-07T12:03:03.057388Z",
     "iopub.status.idle": "2021-07-07T12:03:03.060906Z",
     "shell.execute_reply": "2021-07-07T12:03:03.060477Z",
     "shell.execute_reply.started": "2021-07-07T11:57:52.953211Z"
    },
    "papermill": {
     "duration": 0.030392,
     "end_time": "2021-07-07T12:03:03.061017",
     "exception": false,
     "start_time": "2021-07-07T12:03:03.030625",
     "status": "completed"
    },
    "tags": []
   },
   "outputs": [],
   "source": [
    "# 按照paper预处理数据，构建dataset\n",
    "def data_process(df, text_field, label_field):\n",
    "    texts = df.text.apply(lambda x: re.findall(r'\\b\\w+\\b',x)).values.tolist()\n",
    "    targets = df.term.apply(lambda x: re.findall(r'\\b\\w+\\b',x)).values.tolist()\n",
    "    contexts = [' '.join(texts[i]) for i in range(len(texts))]\n",
    "    \n",
    "    for pol in polarity2num:\n",
    "        df.polarity = df.polarity.replace(pol, polarity2num[pol])\n",
    "    labels = df.polarity\n",
    "    \n",
    "    fields = [(\"context\", text_field), (\"target\", text_field), (\"label\", label_field)]       \n",
    "    examples = []\n",
    "    for context, target, label in tqdm(zip(contexts, targets, labels)):\n",
    "        examples.append(data.Example.fromlist([context, target, label], fields))\n",
    "    \n",
    "    dataset = data.Dataset(examples, fields)\n",
    "    return dataset"
   ]
  },
  {
   "cell_type": "code",
   "execution_count": 4,
   "id": "double-phrase",
   "metadata": {
    "execution": {
     "iopub.execute_input": "2021-07-07T12:03:03.091875Z",
     "iopub.status.busy": "2021-07-07T12:03:03.090992Z",
     "iopub.status.idle": "2021-07-07T12:03:03.101210Z",
     "shell.execute_reply": "2021-07-07T12:03:03.102638Z",
     "shell.execute_reply.started": "2021-07-07T11:57:52.966653Z"
    },
    "papermill": {
     "duration": 0.031829,
     "end_time": "2021-07-07T12:03:03.102828",
     "exception": false,
     "start_time": "2021-07-07T12:03:03.070999",
     "status": "completed"
    },
    "tags": []
   },
   "outputs": [],
   "source": [
    "# 定义AOA_LSTM模型\n",
    "class AOA_LSTM(nn.Module):\n",
    "    def __init__(self, weight_matrix):\n",
    "        super(AOA_LSTM, self).__init__()\n",
    "        self.embedding = nn.Embedding(weight_matrix.shape[0], weight_matrix.shape[1])  \n",
    "        self.embedding.weight.data.copy_(weight_matrix)\n",
    "        \n",
    "        self.lstm_context = nn.LSTM(input_size=weight_matrix.shape[1], hidden_size=HIDDEN_NUM, bidirectional=True)\n",
    "        self.lstm_target = nn.LSTM(input_size=weight_matrix.shape[1], hidden_size=HIDDEN_NUM, bidirectional=True)\n",
    "        \n",
    "        self.out = nn.Linear(HIDDEN_NUM*2, OUT_NUM)\n",
    "\n",
    "    def forward(self, X):\n",
    "        context = self.embedding(X[0])\n",
    "        target = self.embedding(X[1])\n",
    "        \n",
    "        n = context.shape[0]\n",
    "        batch_size = context.shape[1]\n",
    "        d = context.shape[2]\n",
    "        \n",
    "        hidden_state_context = torch.randn(2, batch_size, HIDDEN_NUM).to(DEVICE)\n",
    "        cell_state_context = torch.randn(2, batch_size, HIDDEN_NUM).to(DEVICE)\n",
    "        hidden_state_target = torch.randn(2, batch_size, HIDDEN_NUM).to(DEVICE)\n",
    "        cell_state_target = torch.randn(2, batch_size, HIDDEN_NUM).to(DEVICE)\n",
    "        \n",
    "        context, (_, _) = self.lstm_context(context, (hidden_state_context, cell_state_context))\n",
    "        target, (_, _) = self.lstm_target(target, (hidden_state_context, cell_state_context))\n",
    "        \n",
    "        interaction = torch.bmm(context.transpose(0, 1), target.transpose(0, 1).transpose(1, 2))\n",
    "        alpha = F.softmax(interaction, dim=1)\n",
    "        beta = F.softmax(interaction, dim=2)\n",
    "        beta_avg = torch.mean(beta, dim=1, keepdim=True)\n",
    "        \n",
    "        gamma = torch.bmm(alpha, beta_avg.transpose(1, 2))\n",
    "        r = torch.bmm(context.transpose(0, 1).transpose(1, 2), gamma)     \n",
    "        out = self.out(r.squeeze(dim=2))\n",
    "\n",
    "        return out"
   ]
  },
  {
   "cell_type": "code",
   "execution_count": 5,
   "id": "visible-warren",
   "metadata": {
    "execution": {
     "iopub.execute_input": "2021-07-07T12:03:03.136464Z",
     "iopub.status.busy": "2021-07-07T12:03:03.135905Z",
     "iopub.status.idle": "2021-07-07T12:03:03.139440Z",
     "shell.execute_reply": "2021-07-07T12:03:03.138894Z",
     "shell.execute_reply.started": "2021-07-07T11:57:52.983281Z"
    },
    "papermill": {
     "duration": 0.023676,
     "end_time": "2021-07-07T12:03:03.139546",
     "exception": false,
     "start_time": "2021-07-07T12:03:03.115870",
     "status": "completed"
    },
    "tags": []
   },
   "outputs": [],
   "source": [
    "# 计算正确率\n",
    "def get_acc(model, trial_iter):\n",
    "    pred, real = [], []\n",
    "    for batch in trial_iter:\n",
    "        pred.extend(model([batch.context.to(DEVICE), batch.target.to(DEVICE)]).data.max(1, keepdim=True)[1].tolist())\n",
    "        real.extend(batch.label.data.tolist())\n",
    "    accuracy = accuracy_score(pred, real)  \n",
    "    return accuracy"
   ]
  },
  {
   "cell_type": "code",
   "execution_count": 6,
   "id": "representative-triangle",
   "metadata": {
    "execution": {
     "iopub.execute_input": "2021-07-07T12:03:03.166904Z",
     "iopub.status.busy": "2021-07-07T12:03:03.166409Z",
     "iopub.status.idle": "2021-07-07T12:03:03.588948Z",
     "shell.execute_reply": "2021-07-07T12:03:03.588505Z",
     "shell.execute_reply.started": "2021-07-07T11:57:53.004570Z"
    },
    "papermill": {
     "duration": 0.440876,
     "end_time": "2021-07-07T12:03:03.589063",
     "exception": false,
     "start_time": "2021-07-07T12:03:03.148187",
     "status": "completed"
    },
    "tags": []
   },
   "outputs": [
    {
     "name": "stderr",
     "output_type": "stream",
     "text": [
      "3324it [00:00, 47219.75it/s]\n",
      "369it [00:00, 39571.94it/s]\n",
      "3693it [00:00, 23092.59it/s]\n"
     ]
    }
   ],
   "source": [
    "# 构造数据\n",
    "df_train = pd.read_csv('../input/semeval-14-restaurant-review/restaurant_train_term.csv')\n",
    "df_trial = pd.read_csv('../input/semeval-14-restaurant-review/restaurant_trial_term.csv')\n",
    "\n",
    "tokenize = lambda x: x.split()\n",
    "TEXT = data.Field(sequential=True, lower=True, tokenize=tokenize)\n",
    "LABEL = data.Field(sequential=False, use_vocab=False)\n",
    "\n",
    "dataset_train = data_process(df_train, TEXT, LABEL)\n",
    "dataset_trial = data_process(df_trial, TEXT, LABEL)\n",
    "dataset = data_process(pd.concat([df_trial, df_train], axis=0, ignore_index=True), TEXT, LABEL)\n",
    "\n",
    "train_iter, trial_iter = BucketIterator.splits(\n",
    "        (dataset_train, dataset_trial),\n",
    "        batch_sizes=(BATCH_SIZE, BATCH_SIZE),\n",
    "        device = DEVICE, \n",
    "        sort_key=lambda x: len(x.context),\n",
    "        sort_within_batch=False,\n",
    "        repeat=False \n",
    ")"
   ]
  },
  {
   "cell_type": "code",
   "execution_count": 7,
   "id": "drawn-stretch",
   "metadata": {
    "execution": {
     "iopub.execute_input": "2021-07-07T12:03:03.615007Z",
     "iopub.status.busy": "2021-07-07T12:03:03.614505Z",
     "iopub.status.idle": "2021-07-07T12:09:37.522320Z",
     "shell.execute_reply": "2021-07-07T12:09:37.520865Z",
     "shell.execute_reply.started": "2021-07-07T11:57:53.393919Z"
    },
    "papermill": {
     "duration": 393.922578,
     "end_time": "2021-07-07T12:09:37.522488",
     "exception": false,
     "start_time": "2021-07-07T12:03:03.599910",
     "status": "completed"
    },
    "tags": []
   },
   "outputs": [
    {
     "name": "stderr",
     "output_type": "stream",
     "text": [
      "100%|█████████▉| 2196017/2196018 [05:30<00:00, 6635.92it/s]\n"
     ]
    }
   ],
   "source": [
    "# 加载词向量\n",
    "vectors = Vectors(name='../input/glove840b300dtxt/glove.840B.300d.txt')\n",
    "TEXT.build_vocab(dataset, vectors=vectors)\n",
    "weight_matrix = TEXT.vocab.vectors"
   ]
  },
  {
   "cell_type": "code",
   "execution_count": 8,
   "id": "fancy-harrison",
   "metadata": {
    "execution": {
     "iopub.execute_input": "2021-07-07T12:10:00.101129Z",
     "iopub.status.busy": "2021-07-07T12:10:00.100088Z",
     "iopub.status.idle": "2021-07-07T12:10:04.709506Z",
     "shell.execute_reply": "2021-07-07T12:10:04.708615Z",
     "shell.execute_reply.started": "2021-07-07T11:57:54.220512Z"
    },
    "papermill": {
     "duration": 26.255286,
     "end_time": "2021-07-07T12:10:04.709642",
     "exception": false,
     "start_time": "2021-07-07T12:09:38.454356",
     "status": "completed"
    },
    "tags": []
   },
   "outputs": [],
   "source": [
    "# 构造模型\n",
    "model = AOA_LSTM(weight_matrix).to(DEVICE)\n",
    "criterion = nn.CrossEntropyLoss(weight=torch.FloatTensor([1, 2.68, 3.42, 23.74])).to(DEVICE)\n",
    "optimizer = optim.Adam(model.parameters(), lr=LR)"
   ]
  },
  {
   "cell_type": "code",
   "execution_count": 9,
   "id": "surprising-subsection",
   "metadata": {
    "execution": {
     "iopub.execute_input": "2021-07-07T12:10:06.320707Z",
     "iopub.status.busy": "2021-07-07T12:10:06.320107Z",
     "iopub.status.idle": "2021-07-07T12:59:48.179642Z",
     "shell.execute_reply": "2021-07-07T12:59:48.178289Z",
     "shell.execute_reply.started": "2021-07-07T11:57:54.232556Z"
    },
    "papermill": {
     "duration": 2982.673745,
     "end_time": "2021-07-07T12:59:48.179778",
     "exception": false,
     "start_time": "2021-07-07T12:10:05.506033",
     "status": "completed"
    },
    "tags": []
   },
   "outputs": [
    {
     "name": "stderr",
     "output_type": "stream",
     "text": [
      "100%|██████████| 128/128 [49:41<00:00, 23.29s/it]\n"
     ]
    }
   ],
   "source": [
    "# 训练模型\n",
    "los, acc = [], []\n",
    "for epoch in tqdm(range(EPOCHS)):\n",
    "    for step, batch in enumerate(train_iter):\n",
    "        pred = model([batch.context.to(DEVICE), batch.target.to(DEVICE)])\n",
    "        loss = criterion(pred, batch.label.to(DEVICE))\n",
    "        \n",
    "        optimizer.zero_grad()\n",
    "        loss.backward()\n",
    "        optimizer.step()\n",
    "    \n",
    "    los.append(loss)\n",
    "    acc.append(get_acc(model, trial_iter))"
   ]
  },
  {
   "cell_type": "code",
   "execution_count": 10,
   "id": "introductory-raise",
   "metadata": {
    "execution": {
     "iopub.execute_input": "2021-07-07T12:59:49.888094Z",
     "iopub.status.busy": "2021-07-07T12:59:49.887372Z",
     "iopub.status.idle": "2021-07-07T12:59:50.045269Z",
     "shell.execute_reply": "2021-07-07T12:59:50.045671Z",
     "shell.execute_reply.started": "2021-07-07T12:02:09.704420Z"
    },
    "papermill": {
     "duration": 1.025017,
     "end_time": "2021-07-07T12:59:50.045813",
     "exception": false,
     "start_time": "2021-07-07T12:59:49.020796",
     "status": "completed"
    },
    "tags": []
   },
   "outputs": [
    {
     "data": {
      "text/plain": [
       "[<matplotlib.lines.Line2D at 0x7f33ccd49e90>]"
      ]
     },
     "execution_count": 10,
     "metadata": {},
     "output_type": "execute_result"
    },
    {
     "data": {
      "image/png": "[encoded data removed]",
      "text/plain": [
       "<Figure size 432x288 with 1 Axes>"
      ]
     },
     "metadata": {
      "needs_background": "light"
     },
     "output_type": "display_data"
    }
   ],
   "source": [
    "# 可视化\n",
    "plt.plot(los)"
   ]
  },
  {
   "cell_type": "code",
   "execution_count": 11,
   "id": "aboriginal-leone",
   "metadata": {
    "execution": {
     "iopub.execute_input": "2021-07-07T12:59:51.764565Z",
     "iopub.status.busy": "2021-07-07T12:59:51.763629Z",
     "iopub.status.idle": "2021-07-07T12:59:51.871854Z",
     "shell.execute_reply": "2021-07-07T12:59:51.872269Z",
     "shell.execute_reply.started": "2021-07-07T12:02:09.870978Z"
    },
    "papermill": {
     "duration": 0.979594,
     "end_time": "2021-07-07T12:59:51.872418",
     "exception": false,
     "start_time": "2021-07-07T12:59:50.892824",
     "status": "completed"
    },
    "tags": []
   },
   "outputs": [
    {
     "data": {
      "text/plain": [
       "[<matplotlib.lines.Line2D at 0x7f33ccbf4350>]"
      ]
     },
     "execution_count": 11,
     "metadata": {},
     "output_type": "execute_result"
    },
    {
     "data": {
      "image/png": "[encoded data removed]",
      "text/plain": [
       "<Figure size 432x288 with 1 Axes>"
      ]
     },
     "metadata": {
      "needs_background": "light"
     },
     "output_type": "display_data"
    }
   ],
   "source": [
    "plt.plot(acc)"
   ]
  }
 ],
 "metadata": {
  "kernelspec": {
   "display_name": "Python 3",
   "language": "python",
   "name": "python3"
  },
  "language_info": {
   "codemirror_mode": {
    "name": "ipython",
    "version": 3
   },
   "file_extension": ".py",
   "mimetype": "text/x-python",
   "name": "python",
   "nbconvert_exporter": "python",
   "pygments_lexer": "ipython3",
   "version": "3.7.9"
  },
  "papermill": {
   "default_parameters": {},
   "duration": 3418.961078,
   "end_time": "2021-07-07T12:59:54.296529",
   "environment_variables": {},
   "exception": null,
   "input_path": "__notebook__.ipynb",
   "output_path": "__notebook__.ipynb",
   "parameters": {},
   "start_time": "2021-07-07T12:02:55.335451",
   "version": "2.3.2"
  }
 },
 "nbformat": 4,
 "nbformat_minor": 5
}
