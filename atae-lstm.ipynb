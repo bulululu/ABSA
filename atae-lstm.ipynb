{
 "cells": [
  {
   "cell_type": "code",
   "execution_count": 1,
   "id": "chemical-painting",
   "metadata": {
    "execution": {
     "iopub.execute_input": "2021-07-05T13:27:08.276330Z",
     "iopub.status.busy": "2021-07-05T13:27:08.274849Z",
     "iopub.status.idle": "2021-07-05T13:27:10.543685Z",
     "shell.execute_reply": "2021-07-05T13:27:10.542686Z",
     "shell.execute_reply.started": "2021-07-05T04:10:57.423442Z"
    },
    "papermill": {
     "duration": 2.282368,
     "end_time": "2021-07-05T13:27:10.543875",
     "exception": false,
     "start_time": "2021-07-05T13:27:08.261507",
     "status": "completed"
    },
    "tags": []
   },
   "outputs": [],
   "source": [
    "import torch\n",
    "import torch.nn as nn\n",
    "import torch.optim as optim\n",
    "import torch.nn.functional as F\n",
    "import torch.utils.data as Data\n",
    "\n",
    "from torchtext import data\n",
    "from torchtext.vocab import Vectors\n",
    "from torchtext.data import Iterator, BucketIterator\n",
    "\n",
    "import pandas as pd\n",
    "import numpy as np\n",
    "\n",
    "import re\n",
    "from tqdm import tqdm\n",
    "import matplotlib.pyplot as plt\n",
    "from sklearn.metrics import accuracy_score\n",
    "\n",
    "import warnings\n",
    "warnings.filterwarnings(\"ignore\")"
   ]
  },
  {
   "cell_type": "code",
   "execution_count": 2,
   "id": "pharmaceutical-thesis",
   "metadata": {
    "execution": {
     "iopub.execute_input": "2021-07-05T13:27:10.607909Z",
     "iopub.status.busy": "2021-07-05T13:27:10.607347Z",
     "iopub.status.idle": "2021-07-05T13:27:10.611078Z",
     "shell.execute_reply": "2021-07-05T13:27:10.610633Z",
     "shell.execute_reply.started": "2021-07-05T04:10:57.431642Z"
    },
    "papermill": {
     "duration": 0.058442,
     "end_time": "2021-07-05T13:27:10.611203",
     "exception": false,
     "start_time": "2021-07-05T13:27:10.552761",
     "status": "completed"
    },
    "tags": []
   },
   "outputs": [],
   "source": [
    "# 定义超参数\n",
    "LR = 0.001\n",
    "EPOCHS = 128\n",
    "OUT_NUM = 4\n",
    "BATCH_SIZE = 1\n",
    "HIDDEN_NUM = 256\n",
    "\n",
    "DEVICE = torch.device(\"cuda\" if torch.cuda.is_available() else \"cpu\")\n",
    "polarity2num = {'positive':0, 'negative':1, 'neutral':2, 'conflict':3}"
   ]
  },
  {
   "cell_type": "code",
   "execution_count": 3,
   "id": "false-dollar",
   "metadata": {
    "execution": {
     "iopub.execute_input": "2021-07-05T13:27:10.637553Z",
     "iopub.status.busy": "2021-07-05T13:27:10.636183Z",
     "iopub.status.idle": "2021-07-05T13:27:10.638748Z",
     "shell.execute_reply": "2021-07-05T13:27:10.639138Z",
     "shell.execute_reply.started": "2021-07-05T04:10:57.448776Z"
    },
    "papermill": {
     "duration": 0.019759,
     "end_time": "2021-07-05T13:27:10.639268",
     "exception": false,
     "start_time": "2021-07-05T13:27:10.619509",
     "status": "completed"
    },
    "tags": []
   },
   "outputs": [],
   "source": [
    "# 按照paper预处理数据，构建dataset\n",
    "def data_process(df, text_field, label_field):\n",
    "    texts = df.text.apply(lambda x: re.findall(r'\\b\\w+\\b',x)).values.tolist()\n",
    "    categorys = df.category.apply(lambda x: re.findall(r'\\b\\w+\\b',x)).values.tolist()\n",
    "    \n",
    "    inputs_t = [' '.join(texts[i]) for i in range(len(texts))]\n",
    "    inputs_c = [' '.join(categorys[i]) for i in range(len(categorys))]\n",
    "    \n",
    "    for pol in polarity2num:\n",
    "        df.polarity = df.polarity.replace(pol, polarity2num[pol])\n",
    "    labels = df.polarity\n",
    "    \n",
    "    fields = [(\"input_t\", text_field), (\"input_c\", text_field), (\"label\", label_field)]       \n",
    "    examples = []\n",
    "    for input_t, input_c, label in tqdm(zip(inputs_t, inputs_c, labels)):\n",
    "        examples.append(data.Example.fromlist([input_t, input_c, label], fields))\n",
    "    \n",
    "    dataset = data.Dataset(examples, fields)\n",
    "    return dataset"
   ]
  },
  {
   "cell_type": "code",
   "execution_count": 4,
   "id": "outside-server",
   "metadata": {
    "execution": {
     "iopub.execute_input": "2021-07-05T13:27:10.755932Z",
     "iopub.status.busy": "2021-07-05T13:27:10.754216Z",
     "iopub.status.idle": "2021-07-05T13:27:10.756515Z",
     "shell.execute_reply": "2021-07-05T13:27:10.756921Z",
     "shell.execute_reply.started": "2021-07-05T04:10:57.461967Z"
    },
    "papermill": {
     "duration": 0.109573,
     "end_time": "2021-07-05T13:27:10.757061",
     "exception": false,
     "start_time": "2021-07-05T13:27:10.647488",
     "status": "completed"
    },
    "tags": []
   },
   "outputs": [],
   "source": [
    "# 定义ATAE_LSTM模型\n",
    "class ATAE_LSTM(nn.Module):\n",
    "    def __init__(self, weight_matrix):\n",
    "        super(ATAE_LSTM, self).__init__()\n",
    "        self.embedding = nn.Embedding(weight_matrix.shape[0], weight_matrix.shape[1])  \n",
    "        self.embedding.weight.data.copy_(weight_matrix)\n",
    "        self.lstm_l = nn.LSTM(input_size=weight_matrix.shape[1]*2, hidden_size=HIDDEN_NUM)\n",
    "        self.lstm_r = nn.LSTM(input_size=weight_matrix.shape[1]*2, hidden_size=HIDDEN_NUM)\n",
    "        self.attention = nn.Linear(HIDDEN_NUM+weight_matrix.shape[1], 1, bias=False)\n",
    "        self.wp = nn.Linear(HIDDEN_NUM, HIDDEN_NUM, bias=False)\n",
    "        self.wx = nn.Linear(HIDDEN_NUM, HIDDEN_NUM, bias=False)\n",
    "        self.out = nn.Linear(HIDDEN_NUM, OUT_NUM)\n",
    "\n",
    "    def forward(self, X):\n",
    "        embed_text = self.embedding(X[0])\n",
    "        embed_category = torch.mean(self.embedding(X[1]), dim=0, keepdim=True)\n",
    "        embed_input = torch.cat((embed_text ,torch.cat(([embed_category] * embed_text.shape[0]))), dim=2)\n",
    "        \n",
    "        batch_size = embed_text.shape[1]\n",
    "        hidden_state = torch.randn(1, batch_size, HIDDEN_NUM).to(DEVICE)\n",
    "        cell_state = torch.randn(1, batch_size, HIDDEN_NUM).to(DEVICE)  \n",
    "        \n",
    "        H, (hidden, _) = self.lstm_l(embed_input, (hidden_state, cell_state))\n",
    "        M = torch.tanh(torch.cat((torch.cat(([embed_category] * H.shape[0])), H), dim=2)).transpose(0, 1)  \n",
    "        \n",
    "        score = F.softmax(self.attention(M), dim=1)\n",
    "        r = torch.bmm(H.transpose(0, 1).transpose(1, 2), score).squeeze(dim=2)\n",
    "    \n",
    "        hh = torch.tanh(self.wp(r)+self.wx(hidden[-1]))\n",
    "        out = self.out(hh)  \n",
    "        return out"
   ]
  },
  {
   "cell_type": "code",
   "execution_count": 5,
   "id": "fancy-hamburg",
   "metadata": {
    "execution": {
     "iopub.execute_input": "2021-07-05T13:27:10.779949Z",
     "iopub.status.busy": "2021-07-05T13:27:10.778720Z",
     "iopub.status.idle": "2021-07-05T13:27:10.781449Z",
     "shell.execute_reply": "2021-07-05T13:27:10.781046Z",
     "shell.execute_reply.started": "2021-07-05T04:10:57.476524Z"
    },
    "papermill": {
     "duration": 0.01579,
     "end_time": "2021-07-05T13:27:10.781554",
     "exception": false,
     "start_time": "2021-07-05T13:27:10.765764",
     "status": "completed"
    },
    "tags": []
   },
   "outputs": [],
   "source": [
    "# 计算正确率\n",
    "def get_acc(model, trial_iter):\n",
    "    pred, real = [], []\n",
    "    for batch in trial_iter:\n",
    "        pred.extend(model([batch.input_t.to(DEVICE), batch.input_c.to(DEVICE)]).data.max(1, keepdim=True)[1].tolist())\n",
    "        real.extend(batch.label.data.tolist())\n",
    "    accuracy = accuracy_score(pred, real)  \n",
    "    return accuracy"
   ]
  },
  {
   "cell_type": "code",
   "execution_count": 6,
   "id": "fiscal-hardwood",
   "metadata": {
    "execution": {
     "iopub.execute_input": "2021-07-05T13:27:10.810720Z",
     "iopub.status.busy": "2021-07-05T13:27:10.810199Z",
     "iopub.status.idle": "2021-07-05T13:27:11.137626Z",
     "shell.execute_reply": "2021-07-05T13:27:11.138078Z",
     "shell.execute_reply.started": "2021-07-05T04:10:57.490931Z"
    },
    "papermill": {
     "duration": 0.348498,
     "end_time": "2021-07-05T13:27:11.138239",
     "exception": false,
     "start_time": "2021-07-05T13:27:10.789741",
     "status": "completed"
    },
    "tags": []
   },
   "outputs": [
    {
     "name": "stderr",
     "output_type": "stream",
     "text": [
      "4360it [00:00, 55933.63it/s]\n",
      "485it [00:00, 52307.47it/s]\n",
      "4845it [00:00, 54986.91it/s]\n"
     ]
    }
   ],
   "source": [
    "# 构造数据\n",
    "df_train = pd.read_csv('../input/semeval-14-restaurant-review/restaurant_train_category.csv')\n",
    "df_trial = pd.read_csv('../input/semeval-14-restaurant-review/restaurant_trial_category.csv')\n",
    "\n",
    "tokenize = lambda x: x.split()\n",
    "TEXT = data.Field(sequential=True, lower=True, tokenize=tokenize)\n",
    "LABEL = data.Field(sequential=False, use_vocab=False)\n",
    "    \n",
    "dataset_train = data_process(df_train, TEXT, LABEL)\n",
    "dataset_trial = data_process(df_trial, TEXT, LABEL)\n",
    "dataset = data_process(pd.concat([df_trial, df_train], axis=0, ignore_index=True), TEXT, LABEL)\n",
    "\n",
    "train_iter, trial_iter = BucketIterator.splits(\n",
    "        (dataset_train, dataset_trial),\n",
    "        batch_sizes=(BATCH_SIZE, BATCH_SIZE),\n",
    "        device = DEVICE, \n",
    "        sort_key=lambda x: len(x.input_t),\n",
    "        sort_within_batch=False,\n",
    "        repeat=False \n",
    ")"
   ]
  },
  {
   "cell_type": "code",
   "execution_count": 7,
   "id": "sufficient-richardson",
   "metadata": {
    "execution": {
     "iopub.execute_input": "2021-07-05T13:27:11.162674Z",
     "iopub.status.busy": "2021-07-05T13:27:11.162177Z",
     "iopub.status.idle": "2021-07-05T13:33:34.972328Z",
     "shell.execute_reply": "2021-07-05T13:33:34.972906Z",
     "shell.execute_reply.started": "2021-07-05T04:10:57.958853Z"
    },
    "papermill": {
     "duration": 383.824071,
     "end_time": "2021-07-05T13:33:34.973086",
     "exception": false,
     "start_time": "2021-07-05T13:27:11.149015",
     "status": "completed"
    },
    "tags": []
   },
   "outputs": [
    {
     "name": "stderr",
     "output_type": "stream",
     "text": [
      "100%|█████████▉| 2196017/2196018 [05:08<00:00, 7118.75it/s]\n"
     ]
    }
   ],
   "source": [
    "# 加载词向量\n",
    "vectors = Vectors(name='../input/glove840b300dtxt/glove.840B.300d.txt')\n",
    "TEXT.build_vocab(dataset, vectors=vectors)\n",
    "weight_matrix = TEXT.vocab.vectors"
   ]
  },
  {
   "cell_type": "code",
   "execution_count": 8,
   "id": "linear-exposure",
   "metadata": {
    "execution": {
     "iopub.execute_input": "2021-07-05T13:34:00.225407Z",
     "iopub.status.busy": "2021-07-05T13:34:00.224288Z",
     "iopub.status.idle": "2021-07-05T13:34:06.277298Z",
     "shell.execute_reply": "2021-07-05T13:34:06.276784Z",
     "shell.execute_reply.started": "2021-07-05T04:10:58.646388Z"
    },
    "papermill": {
     "duration": 7.089586,
     "end_time": "2021-07-05T13:34:06.277427",
     "exception": false,
     "start_time": "2021-07-05T13:33:59.187841",
     "status": "completed"
    },
    "tags": []
   },
   "outputs": [],
   "source": [
    "# 构造模型\n",
    "model = ATAE_LSTM(weight_matrix).to(DEVICE)\n",
    "criterion = nn.CrossEntropyLoss(weight=torch.FloatTensor([1, 2.63, 3.18, 12.11])).to(DEVICE)\n",
    "optimizer = optim.Adam(model.parameters(), lr=LR)"
   ]
  },
  {
   "cell_type": "code",
   "execution_count": 9,
   "id": "tired-vision",
   "metadata": {
    "execution": {
     "iopub.execute_input": "2021-07-05T13:34:07.757457Z",
     "iopub.status.busy": "2021-07-05T13:34:07.756652Z",
     "iopub.status.idle": "2021-07-05T14:18:44.341975Z",
     "shell.execute_reply": "2021-07-05T14:18:44.340673Z",
     "shell.execute_reply.started": "2021-07-05T04:10:58.65674Z"
    },
    "papermill": {
     "duration": 2677.329762,
     "end_time": "2021-07-05T14:18:44.342099",
     "exception": false,
     "start_time": "2021-07-05T13:34:07.012337",
     "status": "completed"
    },
    "tags": []
   },
   "outputs": [
    {
     "name": "stderr",
     "output_type": "stream",
     "text": [
      "100%|██████████| 128/128 [44:35<00:00, 20.90s/it]\n"
     ]
    }
   ],
   "source": [
    "# 训练模型\n",
    "los, acc = [], []\n",
    "for epoch in tqdm(range(EPOCHS)):\n",
    "    for step, batch in enumerate(train_iter):\n",
    "        pred = model([batch.input_t.to(DEVICE), batch.input_c.to(DEVICE)])\n",
    "        loss = criterion(pred, batch.label.to(DEVICE))\n",
    "        \n",
    "        optimizer.zero_grad()\n",
    "        loss.backward()\n",
    "        optimizer.step()\n",
    "    \n",
    "    los.append(loss)\n",
    "    acc.append(get_acc(model, trial_iter))"
   ]
  },
  {
   "cell_type": "code",
   "execution_count": 10,
   "id": "pharmaceutical-robin",
   "metadata": {
    "execution": {
     "iopub.execute_input": "2021-07-05T14:18:45.905572Z",
     "iopub.status.busy": "2021-07-05T14:18:45.904948Z",
     "iopub.status.idle": "2021-07-05T14:18:46.116292Z",
     "shell.execute_reply": "2021-07-05T14:18:46.115516Z",
     "shell.execute_reply.started": "2021-07-05T04:11:58.162105Z"
    },
    "papermill": {
     "duration": 1.002885,
     "end_time": "2021-07-05T14:18:46.116418",
     "exception": false,
     "start_time": "2021-07-05T14:18:45.113533",
     "status": "completed"
    },
    "tags": []
   },
   "outputs": [
    {
     "data": {
      "text/plain": [
       "[<matplotlib.lines.Line2D at 0x7fa47bdd3610>]"
      ]
     },
     "execution_count": 10,
     "metadata": {},
     "output_type": "execute_result"
    },
    {
     "data": {
      "image/png": "[encoded data removed]",
      "text/plain": [
       "<Figure size 432x288 with 1 Axes>"
      ]
     },
     "metadata": {
      "needs_background": "light"
     },
     "output_type": "display_data"
    }
   ],
   "source": [
    "# 可视化\n",
    "plt.plot(los)"
   ]
  },
  {
   "cell_type": "code",
   "execution_count": 11,
   "id": "spiritual-scene",
   "metadata": {
    "execution": {
     "iopub.execute_input": "2021-07-05T14:18:47.674241Z",
     "iopub.status.busy": "2021-07-05T14:18:47.673215Z",
     "iopub.status.idle": "2021-07-05T14:18:47.783505Z",
     "shell.execute_reply": "2021-07-05T14:18:47.783935Z",
     "shell.execute_reply.started": "2021-07-05T04:11:33.604843Z"
    },
    "papermill": {
     "duration": 0.89542,
     "end_time": "2021-07-05T14:18:47.784071",
     "exception": false,
     "start_time": "2021-07-05T14:18:46.888651",
     "status": "completed"
    },
    "tags": []
   },
   "outputs": [
    {
     "data": {
      "text/plain": [
       "[<matplotlib.lines.Line2D at 0x7fa47bce2110>]"
      ]
     },
     "execution_count": 11,
     "metadata": {},
     "output_type": "execute_result"
    },
    {
     "data": {
      "image/png": "[encoded data removed]",
      "text/plain": [
       "<Figure size 432x288 with 1 Axes>"
      ]
     },
     "metadata": {
      "needs_background": "light"
     },
     "output_type": "display_data"
    }
   ],
   "source": [
    "plt.plot(acc)"
   ]
  }
 ],
 "metadata": {
  "kernelspec": {
   "display_name": "Python 3",
   "language": "python",
   "name": "python3"
  },
  "language_info": {
   "codemirror_mode": {
    "name": "ipython",
    "version": 3
   },
   "file_extension": ".py",
   "mimetype": "text/x-python",
   "name": "python",
   "nbconvert_exporter": "python",
   "pygments_lexer": "ipython3",
   "version": "3.7.10"
  },
  "papermill": {
   "default_parameters": {},
   "duration": 3109.176705,
   "end_time": "2021-07-05T14:18:50.427704",
   "environment_variables": {},
   "exception": null,
   "input_path": "__notebook__.ipynb",
   "output_path": "__notebook__.ipynb",
   "parameters": {},
   "start_time": "2021-07-05T13:27:01.250999",
   "version": "2.3.3"
  }
 },
 "nbformat": 4,
 "nbformat_minor": 5
}
