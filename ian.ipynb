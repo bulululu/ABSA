{
 "cells": [
  {
   "cell_type": "code",
   "execution_count": 1,
   "id": "utility-observer",
   "metadata": {
    "execution": {
     "iopub.execute_input": "2021-07-07T11:42:43.777485Z",
     "iopub.status.busy": "2021-07-07T11:42:43.776788Z",
     "iopub.status.idle": "2021-07-07T11:42:45.581922Z",
     "shell.execute_reply": "2021-07-07T11:42:45.580932Z",
     "shell.execute_reply.started": "2021-07-07T11:13:43.798067Z"
    },
    "papermill": {
     "duration": 1.827206,
     "end_time": "2021-07-07T11:42:45.582104",
     "exception": false,
     "start_time": "2021-07-07T11:42:43.754898",
     "status": "completed"
    },
    "tags": []
   },
   "outputs": [],
   "source": [
    "import torch\n",
    "import torch.nn as nn\n",
    "import torch.optim as optim\n",
    "import torch.nn.functional as F\n",
    "import torch.utils.data as Data\n",
    "\n",
    "from torchtext import data\n",
    "from torchtext.vocab import Vectors\n",
    "from torchtext.data import Iterator, BucketIterator\n",
    "\n",
    "import pandas as pd\n",
    "import numpy as np\n",
    "\n",
    "import re\n",
    "from tqdm import tqdm\n",
    "import matplotlib.pyplot as plt\n",
    "from sklearn.metrics import accuracy_score\n",
    "\n",
    "import warnings\n",
    "warnings.filterwarnings(\"ignore\")"
   ]
  },
  {
   "cell_type": "code",
   "execution_count": 2,
   "id": "moral-killer",
   "metadata": {
    "execution": {
     "iopub.execute_input": "2021-07-07T11:42:45.644976Z",
     "iopub.status.busy": "2021-07-07T11:42:45.644368Z",
     "iopub.status.idle": "2021-07-07T11:42:45.648459Z",
     "shell.execute_reply": "2021-07-07T11:42:45.648047Z",
     "shell.execute_reply.started": "2021-07-07T11:13:46.12661Z"
    },
    "papermill": {
     "duration": 0.057664,
     "end_time": "2021-07-07T11:42:45.648598",
     "exception": false,
     "start_time": "2021-07-07T11:42:45.590934",
     "status": "completed"
    },
    "tags": []
   },
   "outputs": [],
   "source": [
    "# 定义超参数\n",
    "LR = 0.001\n",
    "EPOCHS = 128\n",
    "OUT_NUM = 4\n",
    "BATCH_SIZE = 1\n",
    "\n",
    "HIDDEN_NUM = 256\n",
    "\n",
    "DEVICE = torch.device(\"cuda\" if torch.cuda.is_available() else \"cpu\")\n",
    "polarity2num = {'positive':0, 'negative':1, 'neutral':2, 'conflict':3}"
   ]
  },
  {
   "cell_type": "code",
   "execution_count": 3,
   "id": "dynamic-portfolio",
   "metadata": {
    "execution": {
     "iopub.execute_input": "2021-07-07T11:42:45.677623Z",
     "iopub.status.busy": "2021-07-07T11:42:45.676110Z",
     "iopub.status.idle": "2021-07-07T11:42:45.678552Z",
     "shell.execute_reply": "2021-07-07T11:42:45.679010Z",
     "shell.execute_reply.started": "2021-07-07T11:13:46.193785Z"
    },
    "papermill": {
     "duration": 0.021655,
     "end_time": "2021-07-07T11:42:45.679166",
     "exception": false,
     "start_time": "2021-07-07T11:42:45.657511",
     "status": "completed"
    },
    "tags": []
   },
   "outputs": [],
   "source": [
    "# 按照paper预处理数据，构建dataset\n",
    "def data_process(df, text_field, label_field):\n",
    "    texts = df.text.apply(lambda x: re.findall(r'\\b\\w+\\b',x)).values.tolist()\n",
    "    targets = df.term.apply(lambda x: re.findall(r'\\b\\w+\\b',x)).values.tolist()\n",
    "    idxs_l = [texts[i].index(targets[i][0]) for i in range(len(texts))]\n",
    "    idxs_r = [texts[i].index(targets[i][-1]) for i in range(len(texts))]\n",
    "    contexts = [' '.join(texts[i][:idxs_l[i]]+texts[i][idxs_r[i]+1:]) for i in range(len(texts))]\n",
    "    \n",
    "    for pol in polarity2num:\n",
    "        df.polarity = df.polarity.replace(pol, polarity2num[pol])\n",
    "    labels = df.polarity\n",
    "    \n",
    "    fields = [(\"context\", text_field), (\"target\", text_field), (\"label\", label_field)]       \n",
    "    examples = []\n",
    "    for context, target, label in tqdm(zip(contexts, targets, labels)):\n",
    "        examples.append(data.Example.fromlist([context, target, label], fields))\n",
    "    \n",
    "    dataset = data.Dataset(examples, fields)\n",
    "    return dataset"
   ]
  },
  {
   "cell_type": "code",
   "execution_count": 4,
   "id": "grand-elizabeth",
   "metadata": {
    "execution": {
     "iopub.execute_input": "2021-07-07T11:42:45.810023Z",
     "iopub.status.busy": "2021-07-07T11:42:45.809023Z",
     "iopub.status.idle": "2021-07-07T11:42:45.812129Z",
     "shell.execute_reply": "2021-07-07T11:42:45.811551Z",
     "shell.execute_reply.started": "2021-07-07T11:13:46.206944Z"
    },
    "papermill": {
     "duration": 0.124391,
     "end_time": "2021-07-07T11:42:45.812264",
     "exception": false,
     "start_time": "2021-07-07T11:42:45.687873",
     "status": "completed"
    },
    "tags": []
   },
   "outputs": [],
   "source": [
    "# 定义IAN模型\n",
    "class IAN(nn.Module):\n",
    "    def __init__(self, weight_matrix):\n",
    "        super(IAN, self).__init__()\n",
    "        self.embedding = nn.Embedding(weight_matrix.shape[0], weight_matrix.shape[1])  \n",
    "        self.embedding.weight.data.copy_(weight_matrix)\n",
    "        \n",
    "        self.lstm_context = nn.LSTM(input_size=weight_matrix.shape[1], hidden_size=HIDDEN_NUM)\n",
    "        self.lstm_target = nn.LSTM(input_size=weight_matrix.shape[1], hidden_size=HIDDEN_NUM)\n",
    "        self.attention_context = nn.Linear(HIDDEN_NUM*2, 1)\n",
    "        self.attention_target = nn.Linear(HIDDEN_NUM*2, 1)\n",
    "\n",
    "        self.out = nn.Linear(HIDDEN_NUM*2, OUT_NUM)\n",
    "\n",
    "    def forward(self, X):\n",
    "        context = self.embedding(X[0])\n",
    "        target = self.embedding(X[1])\n",
    "        \n",
    "        n = context.shape[0]\n",
    "        batch_size = context.shape[1]\n",
    "        d = context.shape[2]\n",
    "        \n",
    "        hidden_state_context = torch.randn(1, batch_size, HIDDEN_NUM).to(DEVICE)\n",
    "        cell_state_context = torch.randn(1, batch_size, HIDDEN_NUM).to(DEVICE)\n",
    "        hidden_state_target = torch.randn(1, batch_size, HIDDEN_NUM).to(DEVICE)\n",
    "        cell_state_target = torch.randn(1, batch_size, HIDDEN_NUM).to(DEVICE)\n",
    "        \n",
    "        context, (_, _) = self.lstm_context(context, (hidden_state_context, cell_state_context))\n",
    "        target, (_, _) = self.lstm_target(target, (hidden_state_context, cell_state_context))\n",
    "        \n",
    "        context_pool = target = torch.mean(context, dim=0, keepdim=True)\n",
    "        target_pool = target = torch.mean(target, dim=0, keepdim=True)\n",
    "        \n",
    "        context_input = torch.cat((context ,torch.cat(([target_pool] * n))), dim=2)\n",
    "        context_score = F.softmax(torch.tanh(self.attention_context(context_input)).transpose(0, 1), dim=1)\n",
    "        context_final = torch.bmm(context.transpose(0, 1).transpose(1, 2), context_score).transpose(1, 2).transpose(0, 1)\n",
    "        \n",
    "        target_input = torch.cat((target, torch.cat(([context_pool]))), dim=2)\n",
    "        target_score = F.softmax(torch.tanh(self.attention_target(target_input)).transpose(0, 1), dim=1)\n",
    "        target_final = torch.bmm(target.transpose(0, 1).transpose(1, 2), target_score).transpose(1, 2).transpose(0, 1)\n",
    "        \n",
    "        final = torch.cat((context_final, target_final), dim=2)\n",
    "        out = torch.tanh(self.out(final.squeeze(dim=0)))\n",
    "        \n",
    "        return out"
   ]
  },
  {
   "cell_type": "code",
   "execution_count": 5,
   "id": "subtle-queue",
   "metadata": {
    "execution": {
     "iopub.execute_input": "2021-07-07T11:42:45.837430Z",
     "iopub.status.busy": "2021-07-07T11:42:45.836115Z",
     "iopub.status.idle": "2021-07-07T11:42:45.838461Z",
     "shell.execute_reply": "2021-07-07T11:42:45.838907Z",
     "shell.execute_reply.started": "2021-07-07T11:13:46.227718Z"
    },
    "papermill": {
     "duration": 0.017291,
     "end_time": "2021-07-07T11:42:45.839038",
     "exception": false,
     "start_time": "2021-07-07T11:42:45.821747",
     "status": "completed"
    },
    "tags": []
   },
   "outputs": [],
   "source": [
    "# 计算正确率\n",
    "def get_acc(model, trial_iter):\n",
    "    pred, real = [], []\n",
    "    for batch in trial_iter:\n",
    "        pred.extend(model([batch.context.to(DEVICE), batch.target.to(DEVICE)]).data.max(1, keepdim=True)[1].tolist())\n",
    "        real.extend(batch.label.data.tolist())\n",
    "    accuracy = accuracy_score(pred, real)  \n",
    "    return accuracy"
   ]
  },
  {
   "cell_type": "code",
   "execution_count": 6,
   "id": "powerful-shanghai",
   "metadata": {
    "execution": {
     "iopub.execute_input": "2021-07-07T11:42:45.866218Z",
     "iopub.status.busy": "2021-07-07T11:42:45.865705Z",
     "iopub.status.idle": "2021-07-07T11:42:46.166399Z",
     "shell.execute_reply": "2021-07-07T11:42:46.166894Z",
     "shell.execute_reply.started": "2021-07-07T11:13:46.241399Z"
    },
    "papermill": {
     "duration": 0.319541,
     "end_time": "2021-07-07T11:42:46.167037",
     "exception": false,
     "start_time": "2021-07-07T11:42:45.847496",
     "status": "completed"
    },
    "tags": []
   },
   "outputs": [
    {
     "name": "stderr",
     "output_type": "stream",
     "text": [
      "3324it [00:00, 53239.04it/s]\n",
      "369it [00:00, 59151.47it/s]\n",
      "3693it [00:00, 52708.90it/s]\n"
     ]
    }
   ],
   "source": [
    "# 构造数据\n",
    "df_train = pd.read_csv('../input/semeval-14-restaurant-review/restaurant_train_term.csv')\n",
    "df_trial = pd.read_csv('../input/semeval-14-restaurant-review/restaurant_trial_term.csv')\n",
    "\n",
    "tokenize = lambda x: x.split()\n",
    "TEXT = data.Field(sequential=True, lower=True, tokenize=tokenize)\n",
    "LABEL = data.Field(sequential=False, use_vocab=False)\n",
    "\n",
    "dataset_train = data_process(df_train, TEXT, LABEL)\n",
    "dataset_trial = data_process(df_trial, TEXT, LABEL)\n",
    "dataset = data_process(pd.concat([df_trial, df_train], axis=0, ignore_index=True), TEXT, LABEL)\n",
    "\n",
    "train_iter, trial_iter = BucketIterator.splits(\n",
    "        (dataset_train, dataset_trial),\n",
    "        batch_sizes=(BATCH_SIZE, BATCH_SIZE),\n",
    "        device = DEVICE, \n",
    "        sort_key=lambda x: len(x.context),\n",
    "        sort_within_batch=False,\n",
    "        repeat=False \n",
    ")"
   ]
  },
  {
   "cell_type": "code",
   "execution_count": 7,
   "id": "rough-supply",
   "metadata": {
    "execution": {
     "iopub.execute_input": "2021-07-07T11:42:46.192119Z",
     "iopub.status.busy": "2021-07-07T11:42:46.191510Z",
     "iopub.status.idle": "2021-07-07T11:49:08.862761Z",
     "shell.execute_reply": "2021-07-07T11:49:08.862191Z",
     "shell.execute_reply.started": "2021-07-07T11:13:46.64392Z"
    },
    "papermill": {
     "duration": 382.685244,
     "end_time": "2021-07-07T11:49:08.862906",
     "exception": false,
     "start_time": "2021-07-07T11:42:46.177662",
     "status": "completed"
    },
    "tags": []
   },
   "outputs": [
    {
     "name": "stderr",
     "output_type": "stream",
     "text": [
      "100%|█████████▉| 2196017/2196018 [05:12<00:00, 7025.18it/s]\n"
     ]
    }
   ],
   "source": [
    "# 加载词向量\n",
    "vectors = Vectors(name='../input/glove840b300dtxt/glove.840B.300d.txt')\n",
    "TEXT.build_vocab(dataset, vectors=vectors)\n",
    "weight_matrix = TEXT.vocab.vectors"
   ]
  },
  {
   "cell_type": "code",
   "execution_count": 8,
   "id": "piano-profile",
   "metadata": {
    "execution": {
     "iopub.execute_input": "2021-07-07T11:49:10.495419Z",
     "iopub.status.busy": "2021-07-07T11:49:10.494725Z",
     "iopub.status.idle": "2021-07-07T11:49:15.588031Z",
     "shell.execute_reply": "2021-07-07T11:49:15.588516Z",
     "shell.execute_reply.started": "2021-07-07T11:14:10.368867Z"
    },
    "papermill": {
     "duration": 5.908908,
     "end_time": "2021-07-07T11:49:15.588711",
     "exception": false,
     "start_time": "2021-07-07T11:49:09.679803",
     "status": "completed"
    },
    "tags": []
   },
   "outputs": [],
   "source": [
    "# 构造模型\n",
    "model = IAN(weight_matrix).to(DEVICE)\n",
    "criterion = nn.CrossEntropyLoss(weight=torch.FloatTensor([1, 2.68, 3.42, 23.74])).to(DEVICE)\n",
    "optimizer = optim.Adam(model.parameters(), lr=LR)"
   ]
  },
  {
   "cell_type": "code",
   "execution_count": 9,
   "id": "touched-hindu",
   "metadata": {
    "execution": {
     "iopub.execute_input": "2021-07-07T11:49:32.174550Z",
     "iopub.status.busy": "2021-07-07T11:49:32.173646Z",
     "iopub.status.idle": "2021-07-07T12:29:09.292319Z",
     "shell.execute_reply": "2021-07-07T12:29:09.290991Z",
     "shell.execute_reply.started": "2021-07-07T11:14:14.74091Z"
    },
    "papermill": {
     "duration": 2378.31219,
     "end_time": "2021-07-07T12:29:09.292452",
     "exception": false,
     "start_time": "2021-07-07T11:49:30.980262",
     "status": "completed"
    },
    "tags": []
   },
   "outputs": [
    {
     "name": "stderr",
     "output_type": "stream",
     "text": [
      "100%|██████████| 128/128 [39:36<00:00, 18.57s/it]\n"
     ]
    }
   ],
   "source": [
    "# 训练模型\n",
    "los, acc = [], []\n",
    "for epoch in tqdm(range(EPOCHS)):\n",
    "    for step, batch in enumerate(train_iter):\n",
    "        pred = model([batch.context.to(DEVICE), batch.target.to(DEVICE)])\n",
    "        loss = criterion(pred, batch.label.to(DEVICE))\n",
    "        \n",
    "        optimizer.zero_grad()\n",
    "        loss.backward()\n",
    "        optimizer.step()\n",
    "    \n",
    "    los.append(loss)\n",
    "    acc.append(get_acc(model, trial_iter))"
   ]
  },
  {
   "cell_type": "code",
   "execution_count": 10,
   "id": "spectacular-practice",
   "metadata": {
    "execution": {
     "iopub.execute_input": "2021-07-07T12:29:11.141623Z",
     "iopub.status.busy": "2021-07-07T12:29:11.140976Z",
     "iopub.status.idle": "2021-07-07T12:29:11.340896Z",
     "shell.execute_reply": "2021-07-07T12:29:11.341308Z",
     "shell.execute_reply.started": "2021-07-07T11:14:32.898323Z"
    },
    "papermill": {
     "duration": 1.00699,
     "end_time": "2021-07-07T12:29:11.341450",
     "exception": false,
     "start_time": "2021-07-07T12:29:10.334460",
     "status": "completed"
    },
    "tags": []
   },
   "outputs": [
    {
     "data": {
      "text/plain": [
       "[<matplotlib.lines.Line2D at 0x7efbda02f450>]"
      ]
     },
     "execution_count": 10,
     "metadata": {},
     "output_type": "execute_result"
    },
    {
     "data": {
      "image/png": "[encoded data removed]",
      "text/plain": [
       "<Figure size 432x288 with 1 Axes>"
      ]
     },
     "metadata": {
      "needs_background": "light"
     },
     "output_type": "display_data"
    }
   ],
   "source": [
    "# 可视化\n",
    "plt.plot(los)"
   ]
  },
  {
   "cell_type": "code",
   "execution_count": 11,
   "id": "prospective-agreement",
   "metadata": {
    "execution": {
     "iopub.execute_input": "2021-07-07T12:29:12.932833Z",
     "iopub.status.busy": "2021-07-07T12:29:12.931918Z",
     "iopub.status.idle": "2021-07-07T12:29:13.042071Z",
     "shell.execute_reply": "2021-07-07T12:29:13.042473Z",
     "shell.execute_reply.started": "2021-07-07T11:14:33.053251Z"
    },
    "papermill": {
     "duration": 0.917225,
     "end_time": "2021-07-07T12:29:13.042633",
     "exception": false,
     "start_time": "2021-07-07T12:29:12.125408",
     "status": "completed"
    },
    "tags": []
   },
   "outputs": [
    {
     "data": {
      "text/plain": [
       "[<matplotlib.lines.Line2D at 0x7efbd9ed5e10>]"
      ]
     },
     "execution_count": 11,
     "metadata": {},
     "output_type": "execute_result"
    },
    {
     "data": {
      "image/png": "[encoded data removed]",
      "text/plain": [
       "<Figure size 432x288 with 1 Axes>"
      ]
     },
     "metadata": {
      "needs_background": "light"
     },
     "output_type": "display_data"
    }
   ],
   "source": [
    "plt.plot(acc)"
   ]
  }
 ],
 "metadata": {
  "kernelspec": {
   "display_name": "Python 3",
   "language": "python",
   "name": "python3"
  },
  "language_info": {
   "codemirror_mode": {
    "name": "ipython",
    "version": 3
   },
   "file_extension": ".py",
   "mimetype": "text/x-python",
   "name": "python",
   "nbconvert_exporter": "python",
   "pygments_lexer": "ipython3",
   "version": "3.7.10"
  },
  "papermill": {
   "default_parameters": {},
   "duration": 2799.167994,
   "end_time": "2021-07-07T12:29:16.309521",
   "environment_variables": {},
   "exception": null,
   "input_path": "__notebook__.ipynb",
   "output_path": "__notebook__.ipynb",
   "parameters": {},
   "start_time": "2021-07-07T11:42:37.141527",
   "version": "2.3.3"
  }
 },
 "nbformat": 4,
 "nbformat_minor": 5
}
